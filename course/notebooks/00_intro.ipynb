{
 "cells": [
  {
   "cell_type": "markdown",
   "metadata": {
    "id": "qKRYkxSIkvXt"
   },
   "source": [
    "# Practical NumPy\n",
    "\n",
    "Welcome! 👋  \n",
    "This is not a tutorial you’ll just read — it’s a **practice-first course** where you learn NumPy by solving short challenges.  \n",
    "<br></br>"
   ]
  },
  {
   "cell_type": "markdown",
   "metadata": {
    "id": "1Wrhkxg4pb7R"
   },
   "source": [
    "## ⚔️ How to Get the Most Out of This Course\n",
    "\n",
    "We believe **“tutorial hell” doesn’t teach you anything.**  \n",
    "You don’t grow by copying someone else’s code — you grow by **facing challenges, struggling a bit, and developing your own problem-solving skills.**  \n",
    "\n",
    "This course is designed to push you just enough out of your comfort zone so you can build that skill.  \n",
    "If you can’t commit to the rules below, it’s better not to waste your time — **this course is not for passive learners.**\n",
    "<br></br>"
   ]
  },
  {
   "cell_type": "markdown",
   "metadata": {
    "id": "MEp98XqapgHc"
   },
   "source": [
    "\n",
    "### The 3 Rules\n",
    "\n",
    "1. **Never (really, never) look at the solutions before you’ve solved it yourself.**  \n",
    "   The moment you peek, the exercise loses its power. Only check solutions *after* your code passes the tests.  \n",
    "\n",
    "2. **Your only resources are:**  \n",
    "   - the **official NumPy documentation**,  \n",
    "   - and the **notebook itself**.  \n",
    "   You can play with the code, add debug prints, experiment like a real engineer does.  \n",
    "   ❌ Do *not* use AI assistants or copy-pasted answers.  \n",
    "   *(For those who use Google Colab: disable AI completions via `Tools > Settings > AI Assistance > Show AI-powered inline completions`.)*  \n",
    "\n",
    "3. **When you get stuck — that’s the point.**  \n",
    "   Stuck = learning.  \n",
    "   This is where you train your ability to wrestle with problems, think deeply, and push through frustration.  \n",
    "   That skill is valued everywhere from software engineering to AI research.\n",
    "    > Your only extra help in case you struggle are the hints provided for each task. Use them sparingly — the less you rely on them, the more you’ll grow.\n",
    "\n",
    "\n",
    "👉 Follow these rules, and you won’t just learn NumPy — you’ll train the **problem-solving mindset** that separates strong developers from tutorial zombies.  \n",
    "<br></br>\n"
   ]
  },
  {
   "cell_type": "markdown",
   "metadata": {
    "id": "5NVLWgS_pmwX"
   },
   "source": [
    "## 🚀 What You’ll Need\n",
    "- Some basic python knowledge\n",
    "\n",
    "That’s it — no prior NumPy knowledge required. You just need basic Python.  \n",
    "<br></br>"
   ]
  },
  {
   "cell_type": "markdown",
   "metadata": {
    "id": "h03Uvxpcpp3_"
   },
   "source": [
    "## 🛠 How It Works\n",
    "Each **challenge notebook** contains:  \n",
    "- **Tasks** → functions with `raise NotImplementedError`. Your job: write the code.  \n",
    "- **Tests** → run them to check your answers.  \n",
    "- **Hints** → peek if you’re stuck.  \n",
    "- **Solutions** → hidden until the end; compare only after you pass.  \n",
    "\n",
    "Every notebook follows the same rhythm: **try → test → adjust → learn**.  \n",
    "<br></br>\n",
    "**Important: in each notebook you'll find a `Notebook Setup` code block. Run it in order to load the tests.**\n",
    "<br></br>\n",
    "**Tip: press `Ctrl/Command` + `Shift` + `Left Arrow` to collapse headings (to hide solutions by default).**\n",
    "<br></br>\n"
   ]
  },
  {
   "cell_type": "markdown",
   "metadata": {
    "id": "p_Ez9MGhpye0"
   },
   "source": [
    "## 📚 Roadmap\n",
    "Here’s what you’ll cover in this course:  \n",
    "\n",
    "- **Challenge 1: Array Creation & Composition**  \n",
    "  - Sequences, dtypes, diagonals, reshaping, stacking/splitting.  \n",
    "- **Challenge 2: Indexing & Slicing (Coming Soon)**  \n",
    "  - Selecting rows, columns, masks, fancy indexing.  \n",
    "- **Challenge 3: Broadcasting (Coming Soon)**  \n",
    "  - Arithmetic with arrays of different shapes.  \n",
    "- **Challenge 4: Linear Algebra Basics (Coming Soon)**  \n",
    "  - Matrix multiplication, transpose, dot products.  \n",
    "- **Challenge 5: Extra Tools (Coming Soon)**  \n",
    "  - Random arrays, file I/O, practical utilities.  \n",
    "<br></br>\n",
    "\n",
    "\n"
   ]
  },
  {
   "cell_type": "markdown",
   "metadata": {
    "id": "gXeaeaP1pzAE"
   },
   "source": [
    "**Ready? Let’s jump into Challenge 1.**\n"
   ]
  }
 ],
 "metadata": {
  "colab": {
   "authorship_tag": "ABX9TyM4hqt+FNzkPwlfEccUXuo9",
   "collapsed_sections": [
    "MEp98XqapgHc",
    "5NVLWgS_pmwX",
    "h03Uvxpcpp3_",
    "0NSZrySjptGz"
   ],
   "provenance": [],
   "toc_visible": true
  },
  "kernelspec": {
   "display_name": "Python 3",
   "name": "python3"
  },
  "language_info": {
   "name": "python"
  }
 },
 "nbformat": 4,
 "nbformat_minor": 0
}
