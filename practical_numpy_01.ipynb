{
 "cells": [
  {
   "cell_type": "markdown",
   "metadata": {
    "id": "sTY-XPAhx5Fx"
   },
   "source": [
    "# Challenge 1 — Creating Your First Arrays\n",
    "\n",
    "Welcome to the very first challenge!  \n",
    "Before we can do anything interesting with NumPy, we need to know how to **make arrays**.  \n",
    "\n",
    "In this challenge you’ll practice building arrays in different ways:  \n",
    "\n",
    "- turning a Python list into a NumPy array\n",
    "- generating sequences of numbers\n",
    "- filling shapes with zeros, ones, or constants\n",
    "- and trying a few tricks with diagonals and reshaping\n",
    "\n",
    "Don’t worry if this feels new — every task will give you a **clear goal** and **instant feedback**.  \n",
    "Your job is just to try writing the array, run the tests, and adjust until it works.\n",
    "\n",
    "Think of this as your **“Hello World” moment with NumPy** — by the end you’ll be comfortable making the **building blocks** we’ll use in every other challenge.  \n"
   ]
  },
  {
   "cell_type": "markdown",
   "metadata": {
    "id": "YEbiZa0_zi__"
   },
   "source": [
    "## 👀 Worked Example — Arrays from a Python List\n",
    "\n",
    "Let’s warm up with the simplest possible task:\n",
    "Take a regular Python list and turn it into a NumPy array.\n",
    "\n",
    "This shows you the basic pattern we’ll repeat throughout the drills:\n",
    "\n",
    "1. Write your function.\n",
    "2. Run the tests.\n",
    "3. Adjust until everything passes."
   ]
  },
  {
   "cell_type": "code",
   "execution_count": 5,
   "metadata": {
    "executionInfo": {
     "elapsed": 8,
     "status": "ok",
     "timestamp": 1756101593818,
     "user": {
      "displayName": "Amir Aharon",
      "userId": "01318220102089441083"
     },
     "user_tz": -180
    },
    "id": "UQvdhG0Tzc39"
   },
   "outputs": [],
   "source": [
    "import numpy as np\n",
    "\n",
    "def example_make_array_from_list():\n",
    "    \"\"\"Return a NumPy array created from [1, 2, 3, 4, 5].\"\"\"\n",
    "    return np.array([1, 2, 3, 4, 5])\n"
   ]
  },
  {
   "cell_type": "markdown",
   "metadata": {
    "id": "B4VNuc0LzzMT"
   },
   "source": [
    "### ✅ Test it"
   ]
  },
  {
   "cell_type": "code",
   "execution_count": 6,
   "metadata": {
    "colab": {
     "base_uri": "https://localhost:8080/"
    },
    "executionInfo": {
     "elapsed": 14,
     "status": "ok",
     "timestamp": 1756101594934,
     "user": {
      "displayName": "Amir Aharon",
      "userId": "01318220102089441083"
     },
     "user_tz": -180
    },
    "id": "KCF1mnd2zwDy",
    "outputId": "1601619e-8379-4381-8ace-4c21cb1234d4"
   },
   "outputs": [
    {
     "name": "stdout",
     "output_type": "stream",
     "text": [
      "It works! ✅\n"
     ]
    }
   ],
   "source": [
    "assert np.array_equal(example_make_array_from_list(), np.array([1,2,3,4,5]))\n",
    "print(\"It works! ✅\")"
   ]
  },
  {
   "cell_type": "markdown",
   "metadata": {
    "id": "xHD_Ryf00Hry"
   },
   "source": [
    "## Section 1 — Sequences & Spacing\n",
    "\n",
    "**What you’ll do:** generate number sequences three different ways.  \n",
    "- *`np.arange` → step-based*\n",
    "- *`np.linspace` → count-based*\n",
    "- *`np.logspace` → log-scaled*\n",
    "\n",
    "These three patterns are the backbone of synthetic data, grid search, and plotting."
   ]
  },
  {
   "cell_type": "markdown",
   "metadata": {
    "id": "ZHm0nNG-0y1i"
   },
   "source": [
    "### 🧩 Tasks\n",
    "Write your functions below. Each one should return the described array."
   ]
  },
  {
   "cell_type": "code",
   "execution_count": 72,
   "metadata": {
    "executionInfo": {
     "elapsed": 41,
     "status": "ok",
     "timestamp": 1756109336800,
     "user": {
      "displayName": "Amir Aharon",
      "userId": "01318220102089441083"
     },
     "user_tz": -180
    },
    "id": "CT0ALUGQ0wht"
   },
   "outputs": [],
   "source": [
    "# Section 1 tasks\n",
    "\n",
    "import numpy as np\n",
    "\n",
    "def make_odds_10_to_30():\n",
    "    \"\"\"\n",
    "    Section 1 — Odds 11..29\n",
    "    - Return a 1D array of odd integers strictly between 10 and 30.\n",
    "    - Starts at 11 and ends at 29.\n",
    "    - Step size = +2 (strictly increasing).\n",
    "    \"\"\"\n",
    "    raise NotImplementedError\n",
    "\n",
    "\n",
    "def make_linspace_unit_interval_101():\n",
    "    \"\"\"\n",
    "    Section 1 — Linspace 0..1\n",
    "    - Return a 1D array of length 101.\n",
    "    - First value = 0.0, last value = 1.0.\n",
    "    - Even spacing throughout (constant difference).\n",
    "    - dtype must be float32.\n",
    "    \"\"\"\n",
    "    raise NotImplementedError\n",
    "\n",
    "\n",
    "def make_logspace_decades_0_to_3():\n",
    "    \"\"\"\n",
    "    Section 1 — Logspace 10^0..10^3\n",
    "    - Return a 1D array of length 4.\n",
    "    - First value = 1 (10^0), last value = 1000 (10^3).\n",
    "    - Constant ratio between consecutive values (×10).\n",
    "    - dtype must be float64.\n",
    "    \"\"\"\n",
    "    raise NotImplementedError\n"
   ]
  },
  {
   "cell_type": "markdown",
   "metadata": {
    "id": "XEHuKCPJ05w8"
   },
   "source": [
    "### ✅ Tests\n",
    "Run these right after you code. If they all pass, you’re good.\n"
   ]
  },
  {
   "cell_type": "code",
   "execution_count": 3,
   "metadata": {
    "colab": {
     "base_uri": "https://localhost:8080/"
    },
    "executionInfo": {
     "elapsed": 10,
     "status": "ok",
     "timestamp": 1756109219687,
     "user": {
      "displayName": "Amir Aharon",
      "userId": "01318220102089441083"
     },
     "user_tz": -180
    },
    "id": "tq0UFQjs06N3",
    "outputId": "29a2f3aa-c509-43d7-f9e4-2e5da27fff96"
   },
   "outputs": [
    {
     "name": "stdout",
     "output_type": "stream",
     "text": [
      "Section 1 tests:\n",
      "\n",
      "--- Odds 11..29 ---\n",
      "✅ odds: 1D array\n",
      "✅ odds: size 10\n",
      "✅ odds: first=11, last=29\n",
      "✅ odds: all odd\n",
      "Output:\n",
      "[11 13 15 17 19 21 23 25 27 29]\n",
      "\n",
      "--- Linspace 0..1 (101 pts) ---\n",
      "✅ linspace: length 101\n",
      "✅ linspace: dtype float32\n",
      "✅ linspace: endpoints 0 and 1\n",
      "Output:\n",
      "[0.   0.01 0.02 0.03 0.04 0.05 ... 0.95 0.96 0.97 0.98 0.99 1.  ]\n",
      "\n",
      "--- Logspace 10^0..10^3 ---\n",
      "✅ logspace: length 4\n",
      "✅ logspace: dtype float64\n",
      "✅ logspace: endpoints 1 and 1000\n",
      "Output:\n",
      "[   1.   10.  100. 1000.]\n"
     ]
    }
   ],
   "source": [
    "from tests.challenge_01 import section_01 as tests\n",
    "\n",
    "ns = {k: v for k, v in globals().items() if not k.startswith(\"_\")}\n",
    "ok, report = tests.run_all(ns)\n",
    "print(report)\n",
    "if not ok:\n",
    "    raise AssertionError(\"Section 1 failed\")\n"
   ]
  },
  {
   "cell_type": "markdown",
   "metadata": {
    "id": "Iy0w2Nv-082E"
   },
   "source": [
    "### 🔎 Hints\n",
    "*(peek only if you need a nudge)*  \n",
    "\n",
    "\n"
   ]
  },
  {
   "cell_type": "markdown",
   "metadata": {
    "id": "k6iWI3YI1BYJ"
   },
   "source": [
    "- **Odds sequence:** you want numbers that increase by 2, starting at 11, and stopping just before 30.  \n",
    "- **Even spacing (count-based):** think of dividing the interval [0, 1] into exactly 100 equal gaps, and include both ends.  \n",
    "- **Log spacing:** you want 4 numbers that grow by powers of 10, starting at 1 and ending at 1000. Try the function that generates values evenly on a log scale.\n"
   ]
  },
  {
   "cell_type": "markdown",
   "metadata": {
    "id": "ZNJRHRpg3HUN"
   },
   "source": [
    "### 🧠 Reference Solutions\n",
    "*(peek only after all tests pass — compare with your work, don’t just copy)*\n"
   ]
  },
  {
   "cell_type": "code",
   "execution_count": null,
   "metadata": {
    "executionInfo": {
     "elapsed": 57,
     "status": "ok",
     "timestamp": 1756106867542,
     "user": {
      "displayName": "Amir Aharon",
      "userId": "01318220102089441083"
     },
     "user_tz": -180
    },
    "id": "8xL2mcx63AEn"
   },
   "outputs": [],
   "source": [
    "# Section 1 solutions\n",
    "\n",
    "def make_odds_10_to_30():\n",
    "    return np.arange(11, 30, 2)\n",
    "\n",
    "def make_linspace_unit_interval_101():\n",
    "    return np.linspace(0.0, 1.0, 101, dtype=np.float32)\n",
    "\n",
    "def make_logspace_decades_0_to_3():\n",
    "    return np.logspace(0, 3, 4, dtype=np.float64)\n"
   ]
  },
  {
   "cell_type": "markdown",
   "metadata": {
    "id": "d7782a9c"
   },
   "source": [
    "## Section 2 — DTypes & Initialization\n",
    "\n",
    "Now that you can make simple arrays, the next step is to control **what type of data** goes inside them and how the array is **initialized**.  \n",
    "\n",
    "In this section you’ll practice:  \n",
    "\n",
    "- *creating arrays of zeros with a specific shape and dtype*\n",
    "- *filling arrays with constants (like π) while keeping precision under control*\n",
    "- *and generating integer ranges with small fixed-size dtypes*\n",
    "\n",
    "The goal is to see that NumPy arrays aren’t just “numbers in boxes” — they carry **data type** information that changes how calculations behave.  \n",
    "\n",
    "Don’t worry if you’ve never thought about dtypes before. The tasks will give you a **clear target output** and the tests will check if both the *values* and the *dtype* are correct.  \n",
    "\n",
    "By the end of this section, you’ll be comfortable with **zeros, ones, full, and range arrays** — all with the exact dtype you choose.  \n"
   ]
  },
  {
   "cell_type": "markdown",
   "metadata": {
    "id": "a32d6dd9"
   },
   "source": [
    "### 🧩 Tasks\n",
    "Write your functions below. Each one should return the described array."
   ]
  },
  {
   "cell_type": "code",
   "execution_count": null,
   "metadata": {
    "executionInfo": {
     "elapsed": 14,
     "status": "ok",
     "timestamp": 1756104680147,
     "user": {
      "displayName": "Amir Aharon",
      "userId": "01318220102089441083"
     },
     "user_tz": -180
    },
    "id": "cf3c9a65"
   },
   "outputs": [],
   "source": [
    "# Section 2 tasks\n",
    "\n",
    "import numpy as np\n",
    "\n",
    "def make_zeros_int16_3x2():\n",
    "    \"\"\"\n",
    "    Section 2 — Zeros matrix\n",
    "    - Return a 2D array with shape (3,2).\n",
    "    - All values must be 0.\n",
    "    - dtype must be int16.\n",
    "    \"\"\"\n",
    "    raise NotImplementedError\n",
    "\n",
    "\n",
    "def make_full_pi_float32_2x3():\n",
    "    \"\"\"\n",
    "    Section 2 — Full of π\n",
    "    - Return a 2D array with shape (2,3).\n",
    "    - Every value equals π (within float32 precision).\n",
    "    - dtype must be float32.\n",
    "    \"\"\"\n",
    "    raise NotImplementedError\n",
    "\n",
    "\n",
    "def make_int8_range_neg5_to_4():\n",
    "    \"\"\"\n",
    "    Section 2 — Range -5..4\n",
    "    - Return a 1D array of consecutive integers from -5 up to +4 (inclusive).\n",
    "    - Step size = +1 (strictly increasing).\n",
    "    - dtype must be int8.\n",
    "    \"\"\"\n",
    "    raise NotImplementedError\n"
   ]
  },
  {
   "cell_type": "markdown",
   "metadata": {
    "id": "94209336"
   },
   "source": [
    "### ✅ Tests\n",
    "Run these right after you code. If they all pass, you’re good."
   ]
  },
  {
   "cell_type": "code",
   "execution_count": 3,
   "metadata": {
    "colab": {
     "base_uri": "https://localhost:8080/"
    },
    "executionInfo": {
     "elapsed": 15,
     "status": "ok",
     "timestamp": 1756109269975,
     "user": {
      "displayName": "Amir Aharon",
      "userId": "01318220102089441083"
     },
     "user_tz": -180
    },
    "id": "a61ba092",
    "outputId": "93868502-becf-4ab5-b0fc-ba2ef4acf194"
   },
   "outputs": [
    {
     "name": "stdout",
     "output_type": "stream",
     "text": [
      "Section 2 tests:\n",
      "\n",
      "--- Zeros int16 (3x2) ---\n",
      "✅ zeros: shape (3,2)\n",
      "✅ zeros: dtype int16\n",
      "✅ zeros: all 0\n",
      "Output:\n",
      "[[0 0]\n",
      " [0 0]\n",
      " [0 0]]\n",
      "\n",
      "--- Full of π float32 (2x3) ---\n",
      "✅ pi: shape (2,3)\n",
      "✅ pi: dtype float32\n",
      "✅ pi: values equal π\n",
      "Output:\n",
      "[[3.142 3.142 3.142]\n",
      " [3.142 3.142 3.142]]\n",
      "\n",
      "--- Range -5..4 int8 ---\n",
      "✅ range: length 10\n",
      "✅ range: dtype int8\n",
      "✅ range: endpoints -5 and 4\n",
      "✅ range: consecutive +1\n",
      "Output:\n",
      "[-5 -4 -3 -2 -1  0  1  2  3  4]\n"
     ]
    }
   ],
   "source": [
    "from tests.challenge_01 import section_02 as tests\n",
    "\n",
    "ns = {k: v for k, v in globals().items() if not k.startswith(\"_\")}\n",
    "ok, report = tests.run_all(ns)\n",
    "print(report)\n",
    "if not ok:\n",
    "    raise AssertionError(\"Section 1 failed\")\n"
   ]
  },
  {
   "cell_type": "markdown",
   "metadata": {
    "id": "97f2c623"
   },
   "source": [
    "### 🔎 Hints\n",
    "*(peek only if you need a nudge)*  "
   ]
  },
  {
   "cell_type": "markdown",
   "metadata": {
    "id": "8f8ce4f0"
   },
   "source": [
    "\n",
    "- **Zeros with dtype:** there’s a constructor that creates an all-zeros array given a shape; you can set the dtype explicitly.\n",
    "- **Fill with a constant:** prefer a constructor that fills an array with a single value in one shot; make sure the value and the array share the same precision.\n",
    "- **Integer range:** think of creating a sequence from -5 up to (but not including) 5 and *fixing the dtype* to an 8-bit integer."
   ]
  },
  {
   "cell_type": "markdown",
   "metadata": {
    "id": "0570b8df"
   },
   "source": [
    "### 🧠 Reference Solutions\n",
    "*(peek only after all tests pass — compare with your work, don’t just copy)*"
   ]
  },
  {
   "cell_type": "code",
   "execution_count": 2,
   "metadata": {
    "executionInfo": {
     "elapsed": 7,
     "status": "ok",
     "timestamp": 1756106984224,
     "user": {
      "displayName": "Amir Aharon",
      "userId": "01318220102089441083"
     },
     "user_tz": -180
    },
    "id": "fc960ffb"
   },
   "outputs": [],
   "source": [
    "# Section 2 solutions\n",
    "\n",
    "def make_zeros_int16_3x2():\n",
    "    return np.zeros((3, 2), dtype=np.int16)\n",
    "\n",
    "def make_full_pi_float32_2x3():\n",
    "    return np.full((2, 3), np.float32(np.pi), dtype=np.float32)\n",
    "\n",
    "def make_int8_range_neg5_to_4():\n",
    "    return np.arange(-5, 5, dtype=np.int8)\n"
   ]
  },
  {
   "cell_type": "markdown",
   "metadata": {
    "id": "a0c498a5"
   },
   "source": [
    "## Section 3 — Diagonals & Triangular Structure\n",
    "\n",
    "Now that you can control dtypes and initialization, it’s time to play with **patterns inside arrays**.  \n",
    "\n",
    "In this section you’ll practice:\n",
    "\n",
    "- *building identity matrices with `eye`*  \n",
    "- *adding custom values along diagonals*  \n",
    "- *and making masks for lower/upper triangular shapes*  \n",
    "\n",
    "These patterns are common in **linear algebra** and **matrix manipulations**.  \n",
    "They’re also a great way to get used to NumPy’s indexing shortcuts.\n"
   ]
  },
  {
   "cell_type": "markdown",
   "metadata": {
    "id": "62806cbf"
   },
   "source": [
    "### 🧩 Tasks\n",
    "Write your functions below. Each one should return the described array."
   ]
  },
  {
   "cell_type": "code",
   "execution_count": null,
   "metadata": {
    "executionInfo": {
     "elapsed": 24,
     "status": "ok",
     "timestamp": 1756108323924,
     "user": {
      "displayName": "Amir Aharon",
      "userId": "01318220102089441083"
     },
     "user_tz": -180
    },
    "id": "573f147e"
   },
   "outputs": [],
   "source": [
    "# Section 3 tasks\n",
    "\n",
    "import numpy as np\n",
    "\n",
    "def make_eye4():\n",
    "    \"\"\"\n",
    "    Section 3 — Identity 4x4\n",
    "    - Return a 2D array with shape (4,4).\n",
    "    - Ones on the main diagonal.\n",
    "    - Zeros everywhere else.\n",
    "    - Any numeric dtype is fine.\n",
    "    \"\"\"\n",
    "    raise NotImplementedError\n",
    "\n",
    "\n",
    "def make_band_main_and_upper():\n",
    "    \"\"\"\n",
    "    Section 3 — Banded (main=1, upper=3)\n",
    "    - Return a 2D array with shape (4,4).\n",
    "    - Main diagonal values == 1.\n",
    "    - First upper diagonal (k=+1) values == 3.\n",
    "    - All other positions == 0.\n",
    "    - Any numeric dtype is fine.\n",
    "    \"\"\"\n",
    "    raise NotImplementedError\n",
    "\n",
    "\n",
    "def make_tril_mask5_exclusive():\n",
    "    \"\"\"\n",
    "    Section 3 — Strict lower-triangular mask\n",
    "    - Return a boolean 2D array with shape (5,5).\n",
    "    - Below main diagonal (i > j) == True.\n",
    "    - On/above main diagonal (i <= j) == False.\n",
    "    - dtype must be bool.\n",
    "    \"\"\"\n",
    "    raise NotImplementedError\n"
   ]
  },
  {
   "cell_type": "markdown",
   "metadata": {
    "id": "9dd0f61b"
   },
   "source": [
    "### ✅ Tests\n",
    "Run these right after you code. If they all pass, you’re good."
   ]
  },
  {
   "cell_type": "code",
   "execution_count": 11,
   "metadata": {
    "colab": {
     "base_uri": "https://localhost:8080/"
    },
    "executionInfo": {
     "elapsed": 5,
     "status": "ok",
     "timestamp": 1756109295982,
     "user": {
      "displayName": "Amir Aharon",
      "userId": "01318220102089441083"
     },
     "user_tz": -180
    },
    "id": "0307d4ea",
    "outputId": "0871f95f-2fdc-4fab-f4f6-fd64379de019"
   },
   "outputs": [
    {
     "name": "stdout",
     "output_type": "stream",
     "text": [
      "Section 3 tests:\n",
      "\n",
      "--- Identity matrix (4x4) ---\n",
      "✅ eye4: shape (4,4)\n",
      "✅ eye4: diagonal ones\n",
      "✅ eye4: only 4 ones\n",
      "Output:\n",
      "[[1. 0. 0. 0.]\n",
      " [0. 1. 0. 0.]\n",
      " [0. 0. 1. 0.]\n",
      " [0. 0. 0. 1.]]\n",
      "\n",
      "--- Banded matrix (diag=1, upper=3) ---\n",
      "✅ band: shape (4,4)\n",
      "✅ band: main diag=1\n",
      "✅ band: upper diag=3\n",
      "✅ band: elsewhere 0\n",
      "Output:\n",
      "[[1. 3. 0. 0.]\n",
      " [0. 1. 3. 0.]\n",
      " [0. 0. 1. 3.]\n",
      " [0. 0. 0. 1.]]\n",
      "\n",
      "--- Strict lower-triangular mask (5x5) ---\n",
      "✅ mask: shape (5,5), dtype=bool\n",
      "✅ mask: diag+above False\n",
      "❌ mask: below True\n",
      "Output:\n",
      "F F F F F\n",
      "F F F F F\n",
      "F F F F F\n",
      "F F F F F\n",
      "F F F F F\n"
     ]
    },
    {
     "ename": "AssertionError",
     "evalue": "Section 1 failed",
     "output_type": "error",
     "traceback": [
      "\u001b[31m---------------------------------------------------------------------------\u001b[39m",
      "\u001b[31mAssertionError\u001b[39m                            Traceback (most recent call last)",
      "\u001b[36mCell\u001b[39m\u001b[36m \u001b[39m\u001b[32mIn[11]\u001b[39m\u001b[32m, line 7\u001b[39m\n\u001b[32m      5\u001b[39m \u001b[38;5;28mprint\u001b[39m(report)\n\u001b[32m      6\u001b[39m \u001b[38;5;28;01mif\u001b[39;00m \u001b[38;5;129;01mnot\u001b[39;00m ok:\n\u001b[32m----> \u001b[39m\u001b[32m7\u001b[39m     \u001b[38;5;28;01mraise\u001b[39;00m \u001b[38;5;167;01mAssertionError\u001b[39;00m(\u001b[33m\"\u001b[39m\u001b[33mSection 1 failed\u001b[39m\u001b[33m\"\u001b[39m)\n",
      "\u001b[31mAssertionError\u001b[39m: Section 1 failed"
     ]
    }
   ],
   "source": [
    "from tests.challenge_01 import section_03 as tests\n",
    "\n",
    "ns = {k: v for k, v in globals().items() if not k.startswith(\"_\")}\n",
    "ok, report = tests.run_all(ns)\n",
    "print(report)\n",
    "if not ok:\n",
    "    raise AssertionError(\"Section 1 failed\")\n"
   ]
  },
  {
   "cell_type": "markdown",
   "metadata": {
    "id": "9edaab49"
   },
   "source": [
    "### 🔎 Hints\n",
    "*(peek only if you need a nudge)*  "
   ]
  },
  {
   "cell_type": "markdown",
   "metadata": {
    "id": "781ae12e"
   },
   "source": [
    "- **Identity matrix:** there’s a one-liner constructor for an “eye” with 1s on the main diagonal.  \n",
    "- **Banded matrix:** try adding two arrays together — one for the main diagonal, one shifted up by 1.  \n",
    "- **Lower-triangular mask:** there’s a helper that fills below the diagonal with ones; give it `k=-1` to exclude the diagonal and set `dtype=bool`.\n"
   ]
  },
  {
   "cell_type": "markdown",
   "metadata": {
    "id": "882f4e0d"
   },
   "source": [
    "### 🧠 Reference Solutions\n",
    "*(peek only after all tests pass — compare with your work, don’t just copy)*"
   ]
  },
  {
   "cell_type": "code",
   "execution_count": 4,
   "metadata": {
    "id": "f939dcec"
   },
   "outputs": [],
   "source": [
    "# Section 3 solutions\n",
    "\n",
    "def make_eye4():\n",
    "    return np.eye(4)\n",
    "\n",
    "def make_band_main_and_upper():\n",
    "    return np.eye(4) + np.diag(np.full(3, 3), k=1)\n",
    "\n",
    "def make_tril_mask5_exclusive():\n",
    "    return np.tril(np.ones((5,5), dtype=bool), k=-1)\n"
   ]
  },
  {
   "cell_type": "markdown",
   "metadata": {
    "id": "vpr3dXDz1eGU"
   },
   "source": [
    "## Section 4 — Reshape & Memory Order\n",
    "\n",
    "You’ve made arrays and built patterns; now let’s shape them **in memory**.  \n",
    "In this section you’ll practice:\n",
    "\n",
    "- *reshaping in C-order (row-major)*  \n",
    "- *reshaping in Fortran-order (column-major)*  \n",
    "- *and building an array from raw bytes (no loops)*  \n",
    "\n",
    "Understanding layout matters for performance, interop, and how values land when you reshape."
   ]
  },
  {
   "cell_type": "markdown",
   "metadata": {
    "id": "xLYsiGNg2_Lv"
   },
   "source": [
    "### 💡 Info — C-contiguous vs F-contiguous\n",
    "\n",
    "When reshaping, NumPy needs to decide how values are laid out in memory:\n",
    "\n",
    "- **C-contiguous (row-major)** → default in NumPy. Values are stored row by row.  \n",
    "  Example 2×3: stored as `[1, 2, 3, 4, 5, 6]`.  \n",
    "- **F-contiguous (column-major)** → Values are stored column by column.  \n",
    "  Same 2×3: stored as `[1, 4, 2, 5, 3, 6]`.\n",
    "\n",
    "Why it matters: performance (cache-friendly iteration), interop with other languages, and reshaping results.  \n",
    "👉 In practice, it affects **speed of operations** and **compatibility with external libraries**.\n"
   ]
  },
  {
   "cell_type": "markdown",
   "metadata": {
    "id": "-viRXq9P1kWv"
   },
   "source": [
    "### 🧩 Tasks\n",
    "Write your functions below. Each one should return the described array."
   ]
  },
  {
   "cell_type": "code",
   "execution_count": 1,
   "metadata": {
    "executionInfo": {
     "elapsed": 16,
     "status": "ok",
     "timestamp": 1756120181149,
     "user": {
      "displayName": "Amir Aharon",
      "userId": "01318220102089441083"
     },
     "user_tz": -180
    },
    "id": "6KHM_SEE1gmS"
   },
   "outputs": [],
   "source": [
    "# Section 4 tasks\n",
    "\n",
    "import numpy as np\n",
    "\n",
    "def make_reshape_c_order():\n",
    "    \"\"\"\n",
    "    Section 4 — C-order reshape\n",
    "    - Start from the sequence [0, 1, 2, 3, 4, 5].\n",
    "    - Reshape into a 2D array with shape (2, 3) using default (row-major / C-order).\n",
    "    - Expected row layout (conceptually): first row has the first three values, second row the next three.\n",
    "    - The result should be C-contiguous in memory.\n",
    "    \"\"\"\n",
    "    raise NotImplementedError\n",
    "\n",
    "\n",
    "def make_reshape_f_order():\n",
    "    \"\"\"\n",
    "    Section 4 — Fortran-order reshape\n",
    "    - Start from the sequence [1, 2, 3, 4, 5, 6].\n",
    "    - Reshape into a 2D array with shape (2, 3) using column-major (Fortran) order.\n",
    "    - Expected column layout (conceptually): first column is [1, 2], second [3, 4], third [5, 6].\n",
    "    - The result should be Fortran-contiguous in memory.\n",
    "    \"\"\"\n",
    "    raise NotImplementedError\n",
    "\n",
    "\n",
    "def make_frombuffer_uint8():\n",
    "    \"\"\"\n",
    "    Section 4 — From raw bytes\n",
    "    - Construct an array of dtype uint8 from the bytes b\"\\x01\\x02\\x03\\x04\".\n",
    "    - The result should be a 1D array with those four values, in order.\n",
    "    - No Python loops.\n",
    "    \"\"\"\n",
    "    raise NotImplementedError\n"
   ]
  },
  {
   "cell_type": "markdown",
   "metadata": {
    "id": "W2zmUmaE1nrW"
   },
   "source": [
    "### ✅ Tests\n",
    "Run these right after you code. If they all pass, you’re good."
   ]
  },
  {
   "cell_type": "code",
   "execution_count": 3,
   "metadata": {
    "colab": {
     "base_uri": "https://localhost:8080/"
    },
    "executionInfo": {
     "elapsed": 29,
     "status": "ok",
     "timestamp": 1756120190970,
     "user": {
      "displayName": "Amir Aharon",
      "userId": "01318220102089441083"
     },
     "user_tz": -180
    },
    "id": "-6bvfQqV1o10",
    "outputId": "02ff43c8-ed82-421f-a995-3305beae7569"
   },
   "outputs": [
    {
     "name": "stdout",
     "output_type": "stream",
     "text": [
      "Section 4 tests:\n",
      "\n",
      "--- C-order reshape (0..5 → 2x3) ---\n",
      "✅ C-order: shape (2,3)\n",
      "✅ C-order: C-contiguous\n",
      "✅ C-order: row layout matches\n",
      "Output:\n",
      "[[0 1 2]\n",
      " [3 4 5]]\n",
      "\n",
      "--- Fortran-order reshape (1..6 → 2x3) ---\n",
      "✅ F-order: shape (2,3)\n",
      "✅ F-order: Fortran-contiguous\n",
      "✅ F-order: column layout matches\n",
      "Output:\n",
      "[[1 3 5]\n",
      " [2 4 6]]\n",
      "\n",
      "--- From raw bytes (uint8) ---\n",
      "✅ frombuffer: length 4\n",
      "✅ frombuffer: dtype uint8\n",
      "✅ frombuffer: values [1,2,3,4]\n",
      "Output:\n",
      "[1 2 3 4]\n"
     ]
    }
   ],
   "source": [
    "from tests.challenge_01 import section_04 as tests\n",
    "\n",
    "ns = {k: v for k, v in globals().items() if not k.startswith(\"_\")}\n",
    "ok, report = tests.run_all(ns)\n",
    "print(report)\n",
    "if not ok:\n",
    "    raise AssertionError(\"Section 1 failed\")\n"
   ]
  },
  {
   "cell_type": "markdown",
   "metadata": {
    "id": "91ovBLfK1stG"
   },
   "source": [
    "### 🔎 Hints\n",
    "*(peek only if you need a nudge)*"
   ]
  },
  {
   "cell_type": "markdown",
   "metadata": {
    "id": "38JUrpFL1uiR"
   },
   "source": [
    "- **C-order reshape:** default reshape is row-major — think “fill rows left→right.”  \n",
    "- **Fortran-order reshape:** specify the memory order flag to fill columns top→bottom.  \n",
    "- **From raw bytes:** there’s a constructor that views a `bytes` object as an array without copying; make sure to set the dtype to 8-bit unsigned."
   ]
  },
  {
   "cell_type": "markdown",
   "metadata": {
    "id": "99DlkKc81wEw"
   },
   "source": [
    "### 🧠 Reference Solutions\n",
    "*(peek only after all tests pass — compare with your work, don’t just copy)*"
   ]
  },
  {
   "cell_type": "code",
   "execution_count": 2,
   "metadata": {
    "id": "xIh8oXZK1xw0"
   },
   "outputs": [],
   "source": [
    "# Section 4 solutions\n",
    "\n",
    "def make_reshape_c_order():\n",
    "    a = np.arange(6)               # [0,1,2,3,4,5]\n",
    "    return a.reshape(2, 3)         # C-order by default\n",
    "\n",
    "def make_reshape_f_order():\n",
    "    a = np.arange(1, 7)            # [1,2,3,4,5,6]\n",
    "    return a.reshape(2, 3, order=\"F\")\n",
    "\n",
    "def make_frombuffer_uint8():\n",
    "    return np.frombuffer(b\"\\x01\\x02\\x03\\x04\", dtype=np.uint8)\n"
   ]
  },
  {
   "cell_type": "markdown",
   "metadata": {
    "id": "jyOyGp3H7CfH"
   },
   "source": [
    "## Section 5 — Stacking & Splitting\n",
    "\n",
    "You can make arrays — now let’s **compose** them.  \n",
    "In this section you’ll practice:\n",
    "\n",
    "- *stacking rows and columns*  \n",
    "- *stacking along a new depth axis*  \n",
    "- *and splitting arrays back into equal parts*\n",
    "\n",
    "This is the glue you’ll use to assemble mini-datasets and to break them down again.\n"
   ]
  },
  {
   "cell_type": "markdown",
   "metadata": {
    "id": "_n2h8vHm7H2Q"
   },
   "source": [
    "### 🧩 Tasks\n",
    "Write your functions below. Each one should return the described object.\n"
   ]
  },
  {
   "cell_type": "code",
   "execution_count": 3,
   "metadata": {
    "executionInfo": {
     "elapsed": 20,
     "status": "ok",
     "timestamp": 1756121043553,
     "user": {
      "displayName": "Amir Aharon",
      "userId": "01318220102089441083"
     },
     "user_tz": -180
    },
    "id": "o2c_LZqQ7KM-"
   },
   "outputs": [],
   "source": [
    "# Section 5 tasks\n",
    "\n",
    "import numpy as np\n",
    "\n",
    "def make_vstack_rows_2x3():\n",
    "    \"\"\"\n",
    "    Section 5 — Vertical stack (rows)\n",
    "    - Create two 1D arrays: [1, 2, 3] and [4, 5, 6].\n",
    "    - Stack them as rows to form a 2D array with shape (2, 3).\n",
    "    - Row 0 should contain the first three numbers; row 1 the next three.\n",
    "    \"\"\"\n",
    "    raise NotImplementedError\n",
    "\n",
    "\n",
    "def make_hstack_cols_3x2():\n",
    "    \"\"\"\n",
    "    Section 5 — Horizontal stack (columns)\n",
    "    - Create two column vectors of shape (3, 1):\n",
    "        col1 = [1, 2, 3]^T\n",
    "        col2 = [10, 20, 30]^T\n",
    "    - Stack them side-by-side to form shape (3, 2), with col1 then col2.\n",
    "    \"\"\"\n",
    "    raise NotImplementedError\n",
    "\n",
    "\n",
    "def make_stack_depth_2x2x2():\n",
    "    \"\"\"\n",
    "    Section 5 — Stack along depth\n",
    "    - Create two 2x2 arrays:\n",
    "        A = [[1, 0],\n",
    "             [0, 1]]      (identity pattern)\n",
    "        B = [[2, 2],\n",
    "             [2, 2]]      (all twos)\n",
    "    - Stack them along a NEW last axis to get shape (2, 2, 2)\n",
    "      so that out[:, :, 0] == A and out[:, :, 1] == B.\n",
    "    \"\"\"\n",
    "    raise NotImplementedError\n",
    "\n",
    "\n",
    "def make_split_1d_5_equal():\n",
    "    \"\"\"\n",
    "    Section 5 — Split into equal chunks\n",
    "    - Create a 1D array with integers 0..19 (inclusive).\n",
    "    - Split it into 5 equal consecutive chunks (each length 4).\n",
    "    - Return a tuple (chunk0, chunk1, chunk2, chunk3, chunk4).\n",
    "    \"\"\"\n",
    "    raise NotImplementedError\n"
   ]
  },
  {
   "cell_type": "markdown",
   "metadata": {
    "id": "Mq2N1Rqr7I5T"
   },
   "source": [
    "### ✅ Tests\n",
    "Run these right after you code. If they all pass, you’re good.\n"
   ]
  },
  {
   "cell_type": "code",
   "execution_count": 5,
   "metadata": {
    "colab": {
     "base_uri": "https://localhost:8080/"
    },
    "executionInfo": {
     "elapsed": 21,
     "status": "ok",
     "timestamp": 1756121158609,
     "user": {
      "displayName": "Amir Aharon",
      "userId": "01318220102089441083"
     },
     "user_tz": -180
    },
    "id": "uqu41tft7NgN",
    "outputId": "3446e7de-6cf5-4b04-e0a3-d3db4df14fc9"
   },
   "outputs": [
    {
     "name": "stdout",
     "output_type": "stream",
     "text": [
      "Section 5 tests:\n",
      "\n",
      "--- Vertical stack (rows) ---\n",
      "✅ vstack: shape (2,3)\n",
      "✅ vstack: first row [1,2,3]\n",
      "✅ vstack: second row [4,5,6]\n",
      "Output:\n",
      "[[1 2 3]\n",
      " [4 5 6]]\n",
      "\n",
      "--- Horizontal stack (columns) ---\n",
      "✅ hstack: shape (3,2)\n",
      "✅ hstack: first column [1,2,3]\n",
      "✅ hstack: second column [10,20,30]\n",
      "Output:\n",
      "[[ 1 10]\n",
      " [ 2 20]\n",
      " [ 3 30]]\n",
      "\n",
      "--- Stack along depth (2x2x2) ---\n",
      "✅ depth-stack: shape (2,2,2)\n",
      "✅ depth-stack: slice 0 == A\n",
      "✅ depth-stack: slice 1 == B\n",
      "Output:\n",
      "[[[1 2]\n",
      "  [0 2]]\n",
      "\n",
      " [[0 2]\n",
      "  [1 2]]]\n",
      "\n",
      "--- Split 1D array into 5 equal chunks ---\n",
      "✅ split: tuple of 5 chunks\n",
      "✅ split: each chunk has length 4\n",
      "✅ split: concatenation is 0..19\n",
      "Output:\n",
      "(array([0, 1, 2, 3]), array([4, 5, 6, 7]), array([ 8,  9, 10, 11]), array([12, 13, 14, 15]), array([16, 17, 18, 19]))\n"
     ]
    }
   ],
   "source": [
    "from tests.challenge_01 import section_05 as tests\n",
    "\n",
    "ns = {k: v for k, v in globals().items() if not k.startswith(\"_\")}\n",
    "ok, report = tests.run_all(ns)\n",
    "print(report)\n",
    "if not ok:\n",
    "    raise AssertionError(\"Section 1 failed\")\n"
   ]
  },
  {
   "cell_type": "markdown",
   "metadata": {
    "id": "yTgK2bOu7Phh"
   },
   "source": [
    "### 🔎 Hints\n",
    "*(peek only if you need a nudge)*\n"
   ]
  },
  {
   "cell_type": "markdown",
   "metadata": {
    "id": "GupPJGVV7VAv"
   },
   "source": [
    "- **Stacking rows vs columns:** think `vstack` (one row on top of another) and `hstack` (columns side-by-side).  \n",
    "- **Column vectors:** give them shape `(n, 1)` — reshaping or `np.newaxis` can help.  \n",
    "- **Depth stacking:** adding a new axis means “wrap both arrays together” — look for a function that stacks along an axis you choose.  \n",
    "- **Equal splits:** when the total length divides evenly by the number of parts, use the strict split (not the version that tolerates uneven sizes).\n"
   ]
  },
  {
   "cell_type": "markdown",
   "metadata": {
    "id": "lVlI7oSA7Tk4"
   },
   "source": [
    "### 🧠 Reference Solutions\n",
    "*(peek only after all tests pass — compare with your work, don’t just copy)*\n"
   ]
  },
  {
   "cell_type": "code",
   "execution_count": 4,
   "metadata": {
    "executionInfo": {
     "elapsed": 18,
     "status": "ok",
     "timestamp": 1756121155027,
     "user": {
      "displayName": "Amir Aharon",
      "userId": "01318220102089441083"
     },
     "user_tz": -180
    },
    "id": "zVdr2z-57Xln"
   },
   "outputs": [],
   "source": [
    "# Section 5 solutions\n",
    "\n",
    "def make_vstack_rows_2x3():\n",
    "    a = np.array([1, 2, 3])\n",
    "    b = np.array([4, 5, 6])\n",
    "    return np.vstack([a, b])\n",
    "\n",
    "def make_hstack_cols_3x2():\n",
    "    col1 = np.array([1, 2, 3]).reshape(-1, 1)\n",
    "    col2 = np.array([10, 20, 30]).reshape(-1, 1)\n",
    "    return np.hstack([col1, col2])\n",
    "\n",
    "def make_stack_depth_2x2x2():\n",
    "    A = np.array([[1, 0],\n",
    "                  [0, 1]])\n",
    "    B = np.full((2, 2), 2)\n",
    "    return np.stack([A, B], axis=-1)\n",
    "\n",
    "def make_split_1d_5_equal():\n",
    "    arr = np.arange(20)  # 0..19\n",
    "    parts = np.split(arr, 5)  # equal chunks only\n",
    "    return tuple(parts)\n"
   ]
  }
 ],
 "metadata": {
  "colab": {
   "authorship_tag": "ABX9TyO4epmulMosoc8lKISMNRlp",
   "collapsed_sections": [
    "6IzXxb_-BrDZ",
    "YEbiZa0_zi__",
    "xHD_Ryf00Hry",
    "ZHm0nNG-0y1i",
    "XEHuKCPJ05w8",
    "Iy0w2Nv-082E",
    "d7782a9c",
    "a32d6dd9",
    "94209336",
    "97f2c623",
    "a0c498a5",
    "62806cbf",
    "9dd0f61b",
    "9edaab49",
    "vpr3dXDz1eGU",
    "-viRXq9P1kWv",
    "W2zmUmaE1nrW",
    "91ovBLfK1stG",
    "jyOyGp3H7CfH",
    "_n2h8vHm7H2Q",
    "Mq2N1Rqr7I5T",
    "yTgK2bOu7Phh"
   ],
   "provenance": [],
   "toc_visible": true
  },
  "kernelspec": {
   "display_name": ".venv (3.13.4)",
   "language": "python",
   "name": "python3"
  },
  "language_info": {
   "codemirror_mode": {
    "name": "ipython",
    "version": 3
   },
   "file_extension": ".py",
   "mimetype": "text/x-python",
   "name": "python",
   "nbconvert_exporter": "python",
   "pygments_lexer": "ipython3",
   "version": "3.13.4"
  }
 },
 "nbformat": 4,
 "nbformat_minor": 0
}
