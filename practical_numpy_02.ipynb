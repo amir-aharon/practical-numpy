{
 "cells": [
  {
   "cell_type": "markdown",
   "metadata": {
    "id": "sTY-XPAhx5Fx"
   },
   "source": [
    "# Challenge 2 — Indexing & Slicing\n",
    "\n",
    "Arrays aren’t useful until you can **select parts of them**.  \n",
    "In this challenge you’ll learn how to read and write specific elements, rows, columns, ranges, boolean masks, and fancy picks — the stuff you use every day.\n"
   ]
  },
  {
   "cell_type": "markdown",
   "metadata": {
    "id": "6IzXxb_-BrDZ"
   },
   "source": [
    "## ⏰ Quick preperation\n",
    "\n",
    "**Run the following code block to install numpy and setup a visualization function.**"
   ]
  },
  {
   "cell_type": "code",
   "execution_count": null,
   "metadata": {
    "id": "1IYxSPc1BkFV"
   },
   "outputs": [],
   "source": [
    "import numpy as np\n",
    "\n",
    "np.set_printoptions(\n",
    "    linewidth=100,\n",
    "    precision=3,\n",
    "    suppress=True\n",
    ")\n",
    "\n",
    "\n",
    "def pretty(a, max_rows=6, max_cols=12, decimals=3):\n",
    "    arr = np.array(a)\n",
    "    with np.printoptions(precision=decimals, suppress=True):\n",
    "        # use numpy’s built-in summarization (head/tail with …)\n",
    "        txt = np.array2string(arr,\n",
    "                              max_line_width=100,\n",
    "                              threshold=max_rows*max_cols,\n",
    "                              edgeitems=min(max_rows, max_cols))\n",
    "    print(txt)\n",
    "    return arr\n",
    "\n",
    "\n",
    "def pretty_bool(a):\n",
    "    chars = {True:\"T\", False:\"F\"}\n",
    "    for row in a:\n",
    "        print(\" \".join(chars[v] for v in row))\n"
   ]
  },
  {
   "cell_type": "markdown",
   "metadata": {
    "id": "xHD_Ryf00Hry"
   },
   "source": [
    "## Section 1 — Basic Indexing\n",
    "\n",
    "**Goal:** get comfortable with square brackets: single items, whole rows, whole columns, and small structural picks (like corners).  \n",
    "**Rule:** no loops — use NumPy indexing.\n"
   ]
  },
  {
   "cell_type": "markdown",
   "metadata": {
    "id": "ZHm0nNG-0y1i"
   },
   "source": [
    "### 🧩 Tasks\n",
    "Write your functions below. Each one should return the described value(s).\n"
   ]
  },
  {
   "cell_type": "code",
   "execution_count": null,
   "metadata": {
    "id": "CT0ALUGQ0wht"
   },
   "outputs": [],
   "source": [
    "# Challenge 2 / Section 1 — Tasks\n",
    "\n",
    "import numpy as np\n",
    "\n",
    "def get_item_rc(a: np.ndarray, r: int, c: int):\n",
    "    \"\"\"\n",
    "    Section 2.1 — Single item by row/col\n",
    "    - Input: a 2D array 'a', zero-based row index 'r', col index 'c'.\n",
    "    - Return: the single scalar at (r, c).\n",
    "    - Notes: function should work for any numeric dtype/shape, as long as a.ndim==2.\n",
    "    \"\"\"\n",
    "    raise NotImplementedError\n",
    "\n",
    "\n",
    "def get_first_row_last_col(a: np.ndarray):\n",
    "    \"\"\"\n",
    "    Section 2.1 — Whole row / whole column\n",
    "    - Input: a 2D array 'a'.\n",
    "    - Return: a tuple (row0, col_last)\n",
    "        * row0 is the first row of 'a' (1D view, shape (a.shape[1],)).\n",
    "        * col_last is the last column of 'a' (1D view, shape (a.shape[0],)).\n",
    "    - Constraints: do not copy unnecessarily; rely on indexing.\n",
    "    \"\"\"\n",
    "    raise NotImplementedError\n",
    "\n",
    "\n",
    "def set_border_zeros(a: np.ndarray):\n",
    "    \"\"\"\n",
    "    Section 2.1 — Write via indexing (border to zeros)\n",
    "    - Input: a 2D array 'a' with shape (m, n) and m>=2, n>=2.\n",
    "    - Task: set the entire border (top row, bottom row, left col, right col) to 0 **in-place**.\n",
    "    - Return: the same array object 'a' after modification.\n",
    "    - Notes: no loops; use indexing. Works with integer/float dtypes (0 must be valid).\n",
    "    \"\"\"\n",
    "    raise NotImplementedError\n",
    "\n",
    "\n",
    "def corners(a: np.ndarray):\n",
    "    \"\"\"\n",
    "    Section 2.1 — Extract the four corners\n",
    "    - Input: a 2D array 'a' with shape (m, n) and m>=2, n>=2.\n",
    "    - Return: a 1D array of four elements in this order:\n",
    "        [top-left, top-right, bottom-left, bottom-right]\n",
    "    - No loops; use direct indexing with row/col positions.\n",
    "    \"\"\"\n",
    "    raise NotImplementedError\n"
   ]
  },
  {
   "cell_type": "markdown",
   "metadata": {
    "id": "XEHuKCPJ05w8"
   },
   "source": [
    "### ✅ Tests\n",
    "Run these after coding. If they pass, you’re solid on basic indexing.  \n",
    "(We print outputs so students can see what’s expected *without* leaking exact targets in code.)\n"
   ]
  },
  {
   "cell_type": "code",
   "execution_count": null,
   "metadata": {
    "colab": {
     "base_uri": "https://localhost:8080/"
    },
    "executionInfo": {
     "elapsed": 10,
     "status": "ok",
     "timestamp": 1756109219687,
     "user": {
      "displayName": "Amir Aharon",
      "userId": "01318220102089441083"
     },
     "user_tz": -180
    },
    "id": "tq0UFQjs06N3",
    "outputId": "29a2f3aa-c509-43d7-f9e4-2e5da27fff96"
   },
   "outputs": [
    {
     "name": "stdout",
     "output_type": "stream",
     "text": [
      "Section 1 — Odds 11..29 — Output:\n",
      "[11 13 15 17 19 21 23 25 27 29]\n",
      "\n",
      "Section 1 — Linspace 0..1 (101 pts, float32) — Output:\n",
      "[0.   0.01 0.02 0.03 0.04 0.05 ... 0.95 0.96 0.97 0.98 0.99 1.  ]\n",
      "\n",
      "Section 1 — Logspace 10^0..10^3 (4 pts, float64) — Output:\n",
      "[   1.   10.  100. 1000.]\n",
      "\n",
      "Section 1 passed! ✅\n"
     ]
    }
   ],
   "source": [
    "# Section 2.1 tests — descriptive checks, no direct answers inside\n",
    "\n",
    "# A reproducible base array to index from: 4x5 with distinct values\n",
    "base = np.arange(20).reshape(4, 5)  # rows 0..3, cols 0..4\n",
    "\n",
    "print(\"2.1 — Single item (r=2, c=3) — Output:\")\n",
    "val = get_item_rc(base, 2, 3)\n",
    "# property checks: equals base[2,3], scalar-like, dtype preserved\n",
    "assert np.isscalar(val) or (isinstance(val, np.ndarray) and val.shape == ()), \"Must be a single scalar\"\n",
    "assert val == base[2, 3], \"Value mismatch at (2,3)\"\n",
    "print(val)\n",
    "\n",
    "print(\"\\n2.1 — First row / Last col — Output:\")\n",
    "row0, col_last = get_first_row_last_col(base)\n",
    "# shapes: row0 -> (5,), col_last -> (4,)\n",
    "assert row0.ndim == 1 and row0.shape == (base.shape[1],), \"row0 shape must match number of columns\"\n",
    "assert col_last.ndim == 1 and col_last.shape == (base.shape[0],), \"col_last shape must match number of rows\"\n",
    "# values: row0 equals first row; col_last equals last column\n",
    "assert np.array_equal(row0, base[0, :]), \"row0 must equal the first row\"\n",
    "assert np.array_equal(col_last, base[:, -1]), \"col_last must equal the last column\"\n",
    "print(\"row0:\", row0)\n",
    "print(\"col_last:\", col_last)\n",
    "\n",
    "print(\"\\n2.1 — Set border to zeros (in-place) — Output:\")\n",
    "a = base.copy()\n",
    "out = set_border_zeros(a)\n",
    "# must be same object (in-place)\n",
    "assert out is a, \"Function must modify the input array in-place and return it\"\n",
    "# border should be 0; inner area unchanged\n",
    "m, n = a.shape\n",
    "# check top/bottom rows\n",
    "assert np.all(a[0, :] == 0) and np.all(a[-1, :] == 0), \"Top/bottom rows must be zeros\"\n",
    "# check left/right cols\n",
    "assert np.all(a[:, 0] == 0) and np.all(a[:, -1] == 0), \"Left/right columns must be zeros\"\n",
    "# inner should match original base\n",
    "inner_ok = np.array_equal(a[1:-1, 1:-1], base[1:-1, 1:-1])\n",
    "assert inner_ok, \"Inner region must remain unchanged\"\n",
    "pretty(a)\n",
    "\n",
    "print(\"\\n2.1 — Corners [tl, tr, bl, br] — Output:\")\n",
    "cr = corners(base)\n",
    "assert cr.ndim == 1 and cr.size == 4, \"Return a 1D array of four elements\"\n",
    "expected = np.array([base[0, 0], base[0, -1], base[-1, 0], base[-1, -1]])\n",
    "assert np.array_equal(cr, expected), \"Order must be [tl, tr, bl, br]\"\n",
    "pretty(cr)\n",
    "\n",
    "print(\"\\nSection 2.1 passed! ✅\")\n"
   ]
  },
  {
   "cell_type": "markdown",
   "metadata": {
    "id": "Iy0w2Nv-082E"
   },
   "source": [
    "### 🔎 Hints\n",
    "*(peek only if you need a nudge)*  \n",
    "\n",
    "\n"
   ]
  },
  {
   "cell_type": "markdown",
   "metadata": {
    "id": "k6iWI3YI1BYJ"
   },
   "source": [
    "- **Odds sequence:** you want numbers that increase by 2, starting at 11, and stopping just before 30.  \n",
    "- **Even spacing (count-based):** think of dividing the interval [0, 1] into exactly 100 equal gaps, and include both ends.  \n",
    "- **Log spacing:** you want 4 numbers that grow by powers of 10, starting at 1 and ending at 1000. Try the function that generates values evenly on a log scale.\n"
   ]
  },
  {
   "cell_type": "markdown",
   "metadata": {
    "id": "ZNJRHRpg3HUN"
   },
   "source": [
    "### 🧠 Reference Solutions\n",
    "*(peek only after all tests pass — compare with your work, don’t just copy)*\n"
   ]
  },
  {
   "cell_type": "code",
   "execution_count": null,
   "metadata": {
    "id": "8xL2mcx63AEn"
   },
   "outputs": [],
   "source": [
    "# Section 1 solutions\n",
    "\n",
    "def make_odds_10_to_30():\n",
    "    return np.arange(11, 30, 2)\n",
    "\n",
    "def make_linspace_unit_interval_101():\n",
    "    return np.linspace(0.0, 1.0, 101, dtype=np.float32)\n",
    "\n",
    "def make_logspace_decades_0_to_3():\n",
    "    return np.logspace(0, 3, 4, dtype=np.float64)\n"
   ]
  },
  {
   "cell_type": "markdown",
   "metadata": {
    "id": "d7782a9c"
   },
   "source": [
    "## Section 2 — DTypes & Initialization\n",
    "\n",
    "Now that you can make simple arrays, the next step is to control **what type of data** goes inside them and how the array is **initialized**.  \n",
    "\n",
    "In this section you’ll practice:  \n",
    "\n",
    "- *creating arrays of zeros with a specific shape and dtype*\n",
    "- *filling arrays with constants (like π) while keeping precision under control*\n",
    "- *and generating integer ranges with small fixed-size dtypes*\n",
    "\n",
    "The goal is to see that NumPy arrays aren’t just “numbers in boxes” — they carry **data type** information that changes how calculations behave.  \n",
    "\n",
    "Don’t worry if you’ve never thought about dtypes before. The tasks will give you a **clear target output** and the tests will check if both the *values* and the *dtype* are correct.  \n",
    "\n",
    "By the end of this section, you’ll be comfortable with **zeros, ones, full, and range arrays** — all with the exact dtype you choose.  \n"
   ]
  },
  {
   "cell_type": "markdown",
   "metadata": {
    "id": "a32d6dd9"
   },
   "source": [
    "### 🧩 Tasks\n",
    "Write your functions below. Each one should return the described array."
   ]
  },
  {
   "cell_type": "code",
   "execution_count": null,
   "metadata": {
    "id": "cf3c9a65"
   },
   "outputs": [],
   "source": [
    "# Section 2 tasks\n",
    "\n",
    "def make_zeros_int16_3x2():\n",
    "    \"\"\"\n",
    "    Section 2 — Zeros matrix\n",
    "    - Return a 2D array with shape (3,2).\n",
    "    - All values must be 0.\n",
    "    - dtype must be int16.\n",
    "    \"\"\"\n",
    "    raise NotImplementedError\n",
    "\n",
    "\n",
    "def make_full_pi_float32_2x3():\n",
    "    \"\"\"\n",
    "    Section 2 — Full of π\n",
    "    - Return a 2D array with shape (2,3).\n",
    "    - Every value equals π (within float32 precision).\n",
    "    - dtype must be float32.\n",
    "    \"\"\"\n",
    "    raise NotImplementedError\n",
    "\n",
    "\n",
    "def make_int8_range_neg5_to_4():\n",
    "    \"\"\"\n",
    "    Section 2 — Range -5..4\n",
    "    - Return a 1D array of consecutive integers from -5 up to +4 (inclusive).\n",
    "    - Step size = +1 (strictly increasing).\n",
    "    - dtype must be int8.\n",
    "    \"\"\"\n",
    "    raise NotImplementedError\n"
   ]
  },
  {
   "cell_type": "markdown",
   "metadata": {
    "id": "94209336"
   },
   "source": [
    "### ✅ Tests\n",
    "Run these right after you code. If they all pass, you’re good."
   ]
  },
  {
   "cell_type": "code",
   "execution_count": null,
   "metadata": {
    "colab": {
     "base_uri": "https://localhost:8080/"
    },
    "executionInfo": {
     "elapsed": 15,
     "status": "ok",
     "timestamp": 1756109269975,
     "user": {
      "displayName": "Amir Aharon",
      "userId": "01318220102089441083"
     },
     "user_tz": -180
    },
    "id": "a61ba092",
    "outputId": "93868502-becf-4ab5-b0fc-ba2ef4acf194"
   },
   "outputs": [
    {
     "name": "stdout",
     "output_type": "stream",
     "text": [
      "Section 2 — Zeros int16 (3x2) — Output:\n",
      "[[0 0]\n",
      " [0 0]\n",
      " [0 0]]\n",
      "\n",
      "Section 2 — Full of π (float32, 2x3) — Output:\n",
      "[[3.142 3.142 3.142]\n",
      " [3.142 3.142 3.142]]\n",
      "\n",
      "Section 2 — Int8 range -5..4 — Output:\n",
      "[-5 -4 -3 -2 -1  0  1  2  3  4]\n",
      "\n",
      "Section 2 passed! ✅\n"
     ]
    }
   ],
   "source": [
    "# Section 2 tests\n",
    "\n",
    "print(\"Section 2 — Zeros int16 (3x2) — Output:\")\n",
    "z = make_zeros_int16_3x2()\n",
    "assert z.shape == (3,2), \"Shape should be (3,2)\"\n",
    "assert z.dtype == np.int16, \"dtype should be int16\"\n",
    "assert np.count_nonzero(z) == 0, \"All values must be 0\"\n",
    "pretty(z)\n",
    "\n",
    "print(\"\\nSection 2 — Full of π (float32, 2x3) — Output:\")\n",
    "pi_mat = make_full_pi_float32_2x3()\n",
    "assert pi_mat.shape == (2,3), \"Shape should be (2,3)\"\n",
    "assert pi_mat.dtype == np.float32, \"dtype should be float32\"\n",
    "assert np.allclose(pi_mat, np.float32(np.pi)), \"All values should equal π (float32)\"\n",
    "pretty(pi_mat)\n",
    "\n",
    "print(\"\\nSection 2 — Int8 range -5..4 — Output:\")\n",
    "r = make_int8_range_neg5_to_4()\n",
    "assert r.ndim == 1 and r.size == 10, \"Should have 10 elements (-5..4)\"\n",
    "assert r.dtype == np.int8, \"dtype should be int8\"\n",
    "assert r[0] == -5 and r[-1] == 4, \"Endpoints should be -5 and 4\"\n",
    "assert np.all(r[1:] - r[:-1] == 1), \"Must increase by +1\"\n",
    "pretty(r)\n",
    "\n",
    "print(\"\\nSection 2 passed! ✅\")\n"
   ]
  },
  {
   "cell_type": "markdown",
   "metadata": {
    "id": "97f2c623"
   },
   "source": [
    "### 🔎 Hints\n",
    "*(peek only if you need a nudge)*  "
   ]
  },
  {
   "cell_type": "markdown",
   "metadata": {
    "id": "8f8ce4f0"
   },
   "source": [
    "\n",
    "- **Zeros with dtype:** there’s a constructor that creates an all-zeros array given a shape; you can set the dtype explicitly.\n",
    "- **Fill with a constant:** prefer a constructor that fills an array with a single value in one shot; make sure the value and the array share the same precision.\n",
    "- **Integer range:** think of creating a sequence from -5 up to (but not including) 5 and *fixing the dtype* to an 8-bit integer."
   ]
  },
  {
   "cell_type": "markdown",
   "metadata": {
    "id": "0570b8df"
   },
   "source": [
    "### 🧠 Reference Solutions\n",
    "*(peek only after all tests pass — compare with your work, don’t just copy)*"
   ]
  },
  {
   "cell_type": "code",
   "execution_count": null,
   "metadata": {
    "id": "fc960ffb"
   },
   "outputs": [],
   "source": [
    "# Section 2 solutions\n",
    "\n",
    "def make_zeros_int16_3x2():\n",
    "    return np.zeros((3, 2), dtype=np.int16)\n",
    "\n",
    "def make_full_pi_float32_2x3():\n",
    "    return np.full((2, 3), np.float32(np.pi), dtype=np.float32)\n",
    "\n",
    "def make_int8_range_neg5_to_4():\n",
    "    return np.arange(-5, 5, dtype=np.int8)\n"
   ]
  },
  {
   "cell_type": "markdown",
   "metadata": {
    "id": "a0c498a5"
   },
   "source": [
    "## Section 3 — Diagonals & Triangular Structure\n",
    "\n",
    "Now that you can control dtypes and initialization, it’s time to play with **patterns inside arrays**.  \n",
    "\n",
    "In this section you’ll practice:\n",
    "\n",
    "- *building identity matrices with `eye`*  \n",
    "- *adding custom values along diagonals*  \n",
    "- *and making masks for lower/upper triangular shapes*  \n",
    "\n",
    "These patterns are common in **linear algebra** and **matrix manipulations**.  \n",
    "They’re also a great way to get used to NumPy’s indexing shortcuts.\n"
   ]
  },
  {
   "cell_type": "markdown",
   "metadata": {
    "id": "62806cbf"
   },
   "source": [
    "### 🧩 Tasks\n",
    "Write your functions below. Each one should return the described array."
   ]
  },
  {
   "cell_type": "code",
   "execution_count": null,
   "metadata": {
    "id": "573f147e"
   },
   "outputs": [],
   "source": [
    "# Section 3 tasks\n",
    "\n",
    "import numpy as np\n",
    "\n",
    "def make_eye4():\n",
    "    \"\"\"\n",
    "    Section 3 — Identity 4x4\n",
    "    - Return a 2D array with shape (4,4).\n",
    "    - Ones on the main diagonal.\n",
    "    - Zeros everywhere else.\n",
    "    - Any numeric dtype is fine.\n",
    "    \"\"\"\n",
    "    raise NotImplementedError\n",
    "\n",
    "\n",
    "def make_band_main_and_upper():\n",
    "    \"\"\"\n",
    "    Section 3 — Banded (main=1, upper=3)\n",
    "    - Return a 2D array with shape (4,4).\n",
    "    - Main diagonal values == 1.\n",
    "    - First upper diagonal (k=+1) values == 3.\n",
    "    - All other positions == 0.\n",
    "    - Any numeric dtype is fine.\n",
    "    \"\"\"\n",
    "    raise NotImplementedError\n",
    "\n",
    "\n",
    "def make_tril_mask5_exclusive():\n",
    "    \"\"\"\n",
    "    Section 3 — Strict lower-triangular mask\n",
    "    - Return a boolean 2D array with shape (5,5).\n",
    "    - Below main diagonal (i > j) == True.\n",
    "    - On/above main diagonal (i <= j) == False.\n",
    "    - dtype must be bool.\n",
    "    \"\"\"\n",
    "    raise NotImplementedError\n"
   ]
  },
  {
   "cell_type": "markdown",
   "metadata": {
    "id": "9dd0f61b"
   },
   "source": [
    "### ✅ Tests\n",
    "Run these right after you code. If they all pass, you’re good."
   ]
  },
  {
   "cell_type": "code",
   "execution_count": null,
   "metadata": {
    "colab": {
     "base_uri": "https://localhost:8080/"
    },
    "executionInfo": {
     "elapsed": 5,
     "status": "ok",
     "timestamp": 1756109295982,
     "user": {
      "displayName": "Amir Aharon",
      "userId": "01318220102089441083"
     },
     "user_tz": -180
    },
    "id": "0307d4ea",
    "outputId": "0871f95f-2fdc-4fab-f4f6-fd64379de019"
   },
   "outputs": [
    {
     "name": "stdout",
     "output_type": "stream",
     "text": [
      "Section 3 — Identity 4x4 — Output:\n",
      "[[1. 0. 0. 0.]\n",
      " [0. 1. 0. 0.]\n",
      " [0. 0. 1. 0.]\n",
      " [0. 0. 0. 1.]]\n",
      "\n",
      "Section 3 — Banded (main=1, upper=3) — Output:\n",
      "[[1. 3. 0. 0.]\n",
      " [0. 1. 3. 0.]\n",
      " [0. 0. 1. 3.]\n",
      " [0. 0. 0. 1.]]\n",
      "\n",
      "Section 3 — Strict lower-triangular mask (5x5) — Output:\n",
      "F F F F F\n",
      "T F F F F\n",
      "T T F F F\n",
      "T T T F F\n",
      "T T T T F\n",
      "\n",
      "Section 3 passed! ✅\n"
     ]
    }
   ],
   "source": [
    "# Section 3 tests\n",
    "\n",
    "print(\"Section 3 — Identity 4x4 — Output:\")\n",
    "eye4 = make_eye4()\n",
    "assert eye4.shape == (4,4), \"Shape must be (4,4)\"\n",
    "assert np.all(eye4.diagonal() == 1), \"Main diagonal must be ones\"\n",
    "assert np.count_nonzero(eye4) == 4, \"Only 4 ones should exist\"\n",
    "pretty(eye4)\n",
    "\n",
    "print(\"\\nSection 3 — Banded (main=1, upper=3) — Output:\")\n",
    "band = make_band_main_and_upper()\n",
    "assert band.shape == (4,4), \"Shape must be (4,4)\"\n",
    "assert np.all(np.diag(band) == 1), \"Main diagonal must be 1s\"\n",
    "assert np.all(np.diag(band, k=1) == 3), \"First upper diagonal must be 3s\"\n",
    "mask_else = np.ones((4,4), dtype=bool)\n",
    "np.fill_diagonal(mask_else, False)\n",
    "mask_else[:-1,1:] = False  # exclude the upper diag from the 'else' region\n",
    "assert np.all(band[mask_else] == 0), \"Everything else must be 0\"\n",
    "pretty(band)\n",
    "\n",
    "print(\"\\nSection 3 — Strict lower-triangular mask (5x5) — Output:\")\n",
    "mask = make_tril_mask5_exclusive()\n",
    "assert mask.shape == (5,5) and mask.dtype == bool, \"Must be (5,5) bool mask\"\n",
    "i, j = np.indices(mask.shape)\n",
    "assert np.all(mask[i <= j] == False), \"Diagonal & above should be False\"\n",
    "assert np.all(mask[i > j] == True), \"Below diagonal should be True\"\n",
    "pretty_bool(mask)\n",
    "\n",
    "print(\"\\nSection 3 passed! ✅\")\n"
   ]
  },
  {
   "cell_type": "markdown",
   "metadata": {
    "id": "9edaab49"
   },
   "source": [
    "### 🔎 Hints\n",
    "*(peek only if you need a nudge)*  "
   ]
  },
  {
   "cell_type": "markdown",
   "metadata": {
    "id": "781ae12e"
   },
   "source": [
    "- **Identity matrix:** there’s a one-liner constructor for an “eye” with 1s on the main diagonal.  \n",
    "- **Banded matrix:** try adding two arrays together — one for the main diagonal, one shifted up by 1.  \n",
    "- **Lower-triangular mask:** there’s a helper that fills below the diagonal with ones; give it `k=-1` to exclude the diagonal and set `dtype=bool`.\n"
   ]
  },
  {
   "cell_type": "markdown",
   "metadata": {
    "id": "882f4e0d"
   },
   "source": [
    "### 🧠 Reference Solutions\n",
    "*(peek only after all tests pass — compare with your work, don’t just copy)*"
   ]
  },
  {
   "cell_type": "code",
   "execution_count": null,
   "metadata": {
    "id": "f939dcec"
   },
   "outputs": [],
   "source": [
    "# Section 3 solutions\n",
    "\n",
    "def make_eye4():\n",
    "    return np.eye(4)\n",
    "\n",
    "def make_band_main_and_upper():\n",
    "    return np.eye(4) + np.diag(np.full(3, 3), k=1)\n",
    "\n",
    "def make_tril_mask5_exclusive():\n",
    "    return np.tril(np.ones((5,5), dtype=bool), k=-1)\n"
   ]
  },
  {
   "cell_type": "markdown",
   "metadata": {
    "id": "vpr3dXDz1eGU"
   },
   "source": [
    "## Section 4 — Reshape & Memory Order\n",
    "\n",
    "You’ve made arrays and built patterns; now let’s shape them **in memory**.  \n",
    "In this section you’ll practice:\n",
    "\n",
    "- *reshaping in C-order (row-major)*  \n",
    "- *reshaping in Fortran-order (column-major)*  \n",
    "- *and building an array from raw bytes (no loops)*  \n",
    "\n",
    "Understanding layout matters for performance, interop, and how values land when you reshape."
   ]
  },
  {
   "cell_type": "markdown",
   "metadata": {
    "id": "xLYsiGNg2_Lv"
   },
   "source": [
    "### 💡 Info — C-contiguous vs F-contiguous\n",
    "\n",
    "When reshaping, NumPy needs to decide how values are laid out in memory:\n",
    "\n",
    "- **C-contiguous (row-major)** → default in NumPy. Values are stored row by row.  \n",
    "  Example 2×3: stored as `[1, 2, 3, 4, 5, 6]`.  \n",
    "- **F-contiguous (column-major)** → Values are stored column by column.  \n",
    "  Same 2×3: stored as `[1, 4, 2, 5, 3, 6]`.\n",
    "\n",
    "Why it matters: performance (cache-friendly iteration), interop with other languages, and reshaping results.  \n",
    "👉 In practice, it affects **speed of operations** and **compatibility with external libraries**.\n"
   ]
  },
  {
   "cell_type": "markdown",
   "metadata": {
    "id": "-viRXq9P1kWv"
   },
   "source": [
    "### 🧩 Tasks\n",
    "Write your functions below. Each one should return the described array."
   ]
  },
  {
   "cell_type": "code",
   "execution_count": null,
   "metadata": {
    "id": "6KHM_SEE1gmS"
   },
   "outputs": [],
   "source": [
    "# Section 4 tasks\n",
    "\n",
    "import numpy as np\n",
    "\n",
    "def make_reshape_c_order():\n",
    "    \"\"\"\n",
    "    Section 4 — C-order reshape\n",
    "    - Start from the sequence [0, 1, 2, 3, 4, 5].\n",
    "    - Reshape into a 2D array with shape (2, 3) using default (row-major / C-order).\n",
    "    - Expected row layout (conceptually): first row has the first three values, second row the next three.\n",
    "    - The result should be C-contiguous in memory.\n",
    "    \"\"\"\n",
    "    arr = np.arange(6)\n",
    "    arr = arr.reshape((2, 3), order='C')\n",
    "    return arr\n",
    "\n",
    "\n",
    "def make_reshape_f_order():\n",
    "    \"\"\"\n",
    "    Section 4 — Fortran-order reshape\n",
    "    - Start from the sequence [1, 2, 3, 4, 5, 6].\n",
    "    - Reshape into a 2D array with shape (2, 3) using column-major (Fortran) order.\n",
    "    - Expected column layout (conceptually): first column is [1, 2], second [3, 4], third [5, 6].\n",
    "    - The result should be Fortran-contiguous in memory.\n",
    "    \"\"\"\n",
    "    arr = np.arange(1, 7)\n",
    "    arr = arr.reshape((2, 3), order='F')\n",
    "    return arr\n",
    "\n",
    "\n",
    "def make_frombuffer_uint8():\n",
    "    \"\"\"\n",
    "    Section 4 — From raw bytes\n",
    "    - Construct an array of dtype uint8 from the bytes b\"\\x01\\x02\\x03\\x04\".\n",
    "    - The result should be a 1D array with those four values, in order.\n",
    "    - No Python loops.\n",
    "    \"\"\"\n",
    "    data = b\"\\x01\\x02\\x03\\x04\"\n",
    "    return np.frombuffer(data, dtype=np.uint8)\n"
   ]
  },
  {
   "cell_type": "markdown",
   "metadata": {
    "id": "W2zmUmaE1nrW"
   },
   "source": [
    "### ✅ Tests\n",
    "Run these right after you code. If they all pass, you’re good."
   ]
  },
  {
   "cell_type": "code",
   "execution_count": null,
   "metadata": {
    "colab": {
     "base_uri": "https://localhost:8080/"
    },
    "executionInfo": {
     "elapsed": 29,
     "status": "ok",
     "timestamp": 1756120190970,
     "user": {
      "displayName": "Amir Aharon",
      "userId": "01318220102089441083"
     },
     "user_tz": -180
    },
    "id": "-6bvfQqV1o10",
    "outputId": "02ff43c8-ed82-421f-a995-3305beae7569"
   },
   "outputs": [
    {
     "name": "stdout",
     "output_type": "stream",
     "text": [
      "Section 4 — C-order reshape (2x3) — Output:\n",
      "[[0 1 2]\n",
      " [3 4 5]]\n",
      "\n",
      "Section 4 — Fortran-order reshape (2x3) — Output:\n",
      "[[1 3 5]\n",
      " [2 4 6]]\n",
      "\n",
      "Section 4 — From raw bytes (uint8) — Output:\n",
      "[1 2 3 4]\n",
      "\n",
      "Section 4 passed! ✅\n"
     ]
    }
   ],
   "source": [
    "# Section 4 tests\n",
    "\n",
    "print(\"Section 4 — C-order reshape (2x3) — Output:\")\n",
    "c = make_reshape_c_order()\n",
    "assert c.shape == (2, 3), \"Shape must be (2,3)\"\n",
    "# C-order property: raveling in C order should give 0..5\n",
    "c_flat = c.ravel(order=\"C\")\n",
    "assert c_flat.size == 6 and c_flat[0] == 0 and c_flat[-1] == 5, \"Values should start at 0 and end at 5\"\n",
    "# Row-major layout: first row < second row in value sequence\n",
    "assert np.all(c[0] < c[1]), \"First row should contain smaller sequential values than second row\"\n",
    "assert c.flags[\"C_CONTIGUOUS\"], \"Array should be C-contiguous\"\n",
    "pretty(c)\n",
    "\n",
    "print(\"\\nSection 4 — Fortran-order reshape (2x3) — Output:\")\n",
    "f = make_reshape_f_order()\n",
    "assert f.shape == (2, 3), \"Shape must be (2,3)\"\n",
    "# Fortran-order property: raveling in F order should give 1..6\n",
    "f_flat = f.ravel(order=\"F\")\n",
    "assert f_flat.size == 6 and f_flat[0] == 1 and f_flat[-1] == 6, \"Values should start at 1 and end at 6\"\n",
    "# Column-major layout: each column increases top→bottom\n",
    "for col in range(f.shape[1]):\n",
    "    assert f[0, col] < f[1, col], \"Column values should increase down each column\"\n",
    "assert np.isfortran(f), \"Array should be Fortran-contiguous\"\n",
    "pretty(f)\n",
    "\n",
    "print(\"\\nSection 4 — From raw bytes (uint8) — Output:\")\n",
    "buf = make_frombuffer_uint8()\n",
    "assert buf.ndim == 1 and buf.size == 4, \"Should be 1D length-4\"\n",
    "assert buf.dtype == np.uint8, \"dtype should be uint8\"\n",
    "assert buf[0] == 1 and buf[-1] == 4, \"Should contain 1..4\"\n",
    "assert np.all(buf[1:] - buf[:-1] == 1), \"Should increase by +1 across elements\"\n",
    "pretty(buf)\n",
    "\n",
    "print(\"\\nSection 4 passed! ✅\")\n"
   ]
  },
  {
   "cell_type": "markdown",
   "metadata": {
    "id": "91ovBLfK1stG"
   },
   "source": [
    "### 🔎 Hints\n",
    "*(peek only if you need a nudge)*"
   ]
  },
  {
   "cell_type": "markdown",
   "metadata": {
    "id": "38JUrpFL1uiR"
   },
   "source": [
    "- **C-order reshape:** default reshape is row-major — think “fill rows left→right.”  \n",
    "- **Fortran-order reshape:** specify the memory order flag to fill columns top→bottom.  \n",
    "- **From raw bytes:** there’s a constructor that views a `bytes` object as an array without copying; make sure to set the dtype to 8-bit unsigned."
   ]
  },
  {
   "cell_type": "markdown",
   "metadata": {
    "id": "99DlkKc81wEw"
   },
   "source": [
    "### 🧠 Reference Solutions\n",
    "*(peek only after all tests pass — compare with your work, don’t just copy)*"
   ]
  },
  {
   "cell_type": "code",
   "execution_count": null,
   "metadata": {
    "id": "xIh8oXZK1xw0"
   },
   "outputs": [],
   "source": [
    "# Section 4 solutions\n",
    "\n",
    "def make_reshape_c_order():\n",
    "    a = np.arange(6)               # [0,1,2,3,4,5]\n",
    "    return a.reshape(2, 3)         # C-order by default\n",
    "\n",
    "def make_reshape_f_order():\n",
    "    a = np.arange(1, 7)            # [1,2,3,4,5,6]\n",
    "    return a.reshape(2, 3, order=\"F\")\n",
    "\n",
    "def make_frombuffer_uint8():\n",
    "    return np.frombuffer(b\"\\x01\\x02\\x03\\x04\", dtype=np.uint8)\n"
   ]
  },
  {
   "cell_type": "markdown",
   "metadata": {
    "id": "jyOyGp3H7CfH"
   },
   "source": [
    "## Section 5 — Stacking & Splitting\n",
    "\n",
    "You can make arrays — now let’s **compose** them.  \n",
    "In this section you’ll practice:\n",
    "\n",
    "- *stacking rows and columns*  \n",
    "- *stacking along a new depth axis*  \n",
    "- *and splitting arrays back into equal parts*\n",
    "\n",
    "This is the glue you’ll use to assemble mini-datasets and to break them down again.\n"
   ]
  },
  {
   "cell_type": "markdown",
   "metadata": {
    "id": "_n2h8vHm7H2Q"
   },
   "source": [
    "### 🧩 Tasks\n",
    "Write your functions below. Each one should return the described object.\n"
   ]
  },
  {
   "cell_type": "code",
   "execution_count": null,
   "metadata": {
    "id": "o2c_LZqQ7KM-"
   },
   "outputs": [],
   "source": [
    "# Section 5 tasks\n",
    "\n",
    "import numpy as np\n",
    "\n",
    "def make_vstack_rows_2x3():\n",
    "    \"\"\"\n",
    "    Section 5 — Vertical stack (rows)\n",
    "    - Create two 1D arrays: [1, 2, 3] and [4, 5, 6].\n",
    "    - Stack them as rows to form a 2D array with shape (2, 3).\n",
    "    - Row 0 should contain the first three numbers; row 1 the next three.\n",
    "    \"\"\"\n",
    "    raise NotImplementedError\n",
    "\n",
    "\n",
    "def make_hstack_cols_3x2():\n",
    "    \"\"\"\n",
    "    Section 5 — Horizontal stack (columns)\n",
    "    - Create two column vectors of shape (3, 1):\n",
    "        col1 = [1, 2, 3]^T\n",
    "        col2 = [10, 20, 30]^T\n",
    "    - Stack them side-by-side to form shape (3, 2), with col1 then col2.\n",
    "    \"\"\"\n",
    "    raise NotImplementedError\n",
    "\n",
    "\n",
    "def make_stack_depth_2x2x2():\n",
    "    \"\"\"\n",
    "    Section 5 — Stack along depth\n",
    "    - Create two 2x2 arrays:\n",
    "        A = [[1, 0],\n",
    "             [0, 1]]      (identity pattern)\n",
    "        B = [[2, 2],\n",
    "             [2, 2]]      (all twos)\n",
    "    - Stack them along a NEW last axis to get shape (2, 2, 2)\n",
    "      so that out[:, :, 0] == A and out[:, :, 1] == B.\n",
    "    \"\"\"\n",
    "    raise NotImplementedError\n",
    "\n",
    "\n",
    "def make_split_1d_5_equal():\n",
    "    \"\"\"\n",
    "    Section 5 — Split into equal chunks\n",
    "    - Create a 1D array with integers 0..19 (inclusive).\n",
    "    - Split it into 5 equal consecutive chunks (each length 4).\n",
    "    - Return a tuple (chunk0, chunk1, chunk2, chunk3, chunk4).\n",
    "    \"\"\"\n",
    "    raise NotImplementedError\n"
   ]
  },
  {
   "cell_type": "markdown",
   "metadata": {
    "id": "Mq2N1Rqr7I5T"
   },
   "source": [
    "### ✅ Tests\n",
    "Run these right after you code. If they all pass, you’re good.\n"
   ]
  },
  {
   "cell_type": "code",
   "execution_count": null,
   "metadata": {
    "colab": {
     "base_uri": "https://localhost:8080/"
    },
    "executionInfo": {
     "elapsed": 21,
     "status": "ok",
     "timestamp": 1756121158609,
     "user": {
      "displayName": "Amir Aharon",
      "userId": "01318220102089441083"
     },
     "user_tz": -180
    },
    "id": "uqu41tft7NgN",
    "outputId": "3446e7de-6cf5-4b04-e0a3-d3db4df14fc9"
   },
   "outputs": [
    {
     "name": "stdout",
     "output_type": "stream",
     "text": [
      "Section 5 — vstack rows (2x3) — Output:\n",
      "[[1 2 3]\n",
      " [4 5 6]]\n",
      "\n",
      "Section 5 — hstack cols (3x2) — Output:\n",
      "[[ 1 10]\n",
      " [ 2 20]\n",
      " [ 3 30]]\n",
      "\n",
      "Section 5 — stack depth (2x2x2) — Output:\n",
      "[[[1 2]\n",
      "  [0 2]]\n",
      "\n",
      " [[0 2]\n",
      "  [1 2]]]\n",
      "\n",
      "Section 5 — split 1D into 5 equal chunks — Output:\n",
      "chunk 0:\n",
      "[0 1 2 3]\n",
      "chunk 1:\n",
      "[4 5 6 7]\n",
      "chunk 2:\n",
      "[ 8  9 10 11]\n",
      "chunk 3:\n",
      "[12 13 14 15]\n",
      "chunk 4:\n",
      "[16 17 18 19]\n",
      "\n",
      "Section 5 passed! ✅\n"
     ]
    }
   ],
   "source": [
    "# Section 5 tests\n",
    "\n",
    "print(\"Section 5 — vstack rows (2x3) — Output:\")\n",
    "vs = make_vstack_rows_2x3()\n",
    "assert vs.shape == (2, 3), \"Shape must be (2,3)\"\n",
    "# Row-wise properties\n",
    "assert np.all(vs[0, 1:] - vs[0, :-1] == 1), \"Row 0 must increase by +1\"\n",
    "assert np.all(vs[1, 1:] - vs[1, :-1] == 1), \"Row 1 must increase by +1\"\n",
    "assert vs[0, 0] == 1 and vs[1, -1] == 6, \"Row starts/ends should be 1 and 6\"\n",
    "pretty(vs)\n",
    "\n",
    "print(\"\\nSection 5 — hstack cols (3x2) — Output:\")\n",
    "hs = make_hstack_cols_3x2()\n",
    "assert hs.shape == (3, 2), \"Shape must be (3,2)\"\n",
    "# Column-wise properties\n",
    "assert np.all(hs[1:, 0] - hs[:-1, 0] == 1), \"First column must increase by +1 downwards\"\n",
    "assert np.all(hs[1:, 1] - hs[:-1, 1] == 10), \"Second column must increase by +10 downwards\"\n",
    "assert hs[0, 0] == 1 and hs[-1, 1] == 30, \"Column endpoints should be 1 and 30\"\n",
    "pretty(hs)\n",
    "\n",
    "print(\"\\nSection 5 — stack depth (2x2x2) — Output:\")\n",
    "depth = make_stack_depth_2x2x2()\n",
    "assert depth.shape == (2, 2, 2), \"Shape must be (2,2,2)\"\n",
    "# Depth properties: first slice looks like identity, second all twos\n",
    "d0, d1 = depth[:, :, 0], depth[:, :, 1]\n",
    "assert np.all(d0.diagonal() == 1) and np.count_nonzero(d0) == 2, \"First depth slice should be identity-like\"\n",
    "assert np.all(d1 == 2), \"Second depth slice should be all twos\"\n",
    "pretty(depth)\n",
    "\n",
    "print(\"\\nSection 5 — split 1D into 5 equal chunks — Output:\")\n",
    "chunks = make_split_1d_5_equal()\n",
    "assert isinstance(chunks, (list, tuple)) and len(chunks) == 5, \"Should return 5 chunks\"\n",
    "lengths = [c.size for c in chunks]\n",
    "assert all(L == 4 for L in lengths), \"Each chunk must have length 4\"\n",
    "# Continuity across chunks\n",
    "first_vals = [c[0] for c in chunks]\n",
    "last_vals  = [c[-1] for c in chunks]\n",
    "assert first_vals[0] == 0 and last_vals[-1] == 19, \"Overall range must be 0..19\"\n",
    "for i in range(4):\n",
    "    assert first_vals[i+1] == last_vals[i] + 1, \"Chunks must be consecutive\"\n",
    "# Show outputs\n",
    "for idx, c in enumerate(chunks):\n",
    "    print(f\"chunk {idx}:\")\n",
    "    pretty(c)\n",
    "\n",
    "print(\"\\nSection 5 passed! ✅\")\n"
   ]
  },
  {
   "cell_type": "markdown",
   "metadata": {
    "id": "yTgK2bOu7Phh"
   },
   "source": [
    "### 🔎 Hints\n",
    "*(peek only if you need a nudge)*\n"
   ]
  },
  {
   "cell_type": "markdown",
   "metadata": {
    "id": "GupPJGVV7VAv"
   },
   "source": [
    "- **Stacking rows vs columns:** think `vstack` (one row on top of another) and `hstack` (columns side-by-side).  \n",
    "- **Column vectors:** give them shape `(n, 1)` — reshaping or `np.newaxis` can help.  \n",
    "- **Depth stacking:** adding a new axis means “wrap both arrays together” — look for a function that stacks along an axis you choose.  \n",
    "- **Equal splits:** when the total length divides evenly by the number of parts, use the strict split (not the version that tolerates uneven sizes).\n"
   ]
  },
  {
   "cell_type": "markdown",
   "metadata": {
    "id": "lVlI7oSA7Tk4"
   },
   "source": [
    "### 🧠 Reference Solutions\n",
    "*(peek only after all tests pass — compare with your work, don’t just copy)*\n"
   ]
  },
  {
   "cell_type": "code",
   "execution_count": null,
   "metadata": {
    "id": "zVdr2z-57Xln"
   },
   "outputs": [],
   "source": [
    "# Section 5 solutions\n",
    "\n",
    "def make_vstack_rows_2x3():\n",
    "    a = np.array([1, 2, 3])\n",
    "    b = np.array([4, 5, 6])\n",
    "    return np.vstack([a, b])\n",
    "\n",
    "def make_hstack_cols_3x2():\n",
    "    col1 = np.array([1, 2, 3]).reshape(-1, 1)\n",
    "    col2 = np.array([10, 20, 30]).reshape(-1, 1)\n",
    "    return np.hstack([col1, col2])\n",
    "\n",
    "def make_stack_depth_2x2x2():\n",
    "    A = np.array([[1, 0],\n",
    "                  [0, 1]])\n",
    "    B = np.full((2, 2), 2)\n",
    "    return np.stack([A, B], axis=-1)\n",
    "\n",
    "def make_split_1d_5_equal():\n",
    "    arr = np.arange(20)  # 0..19\n",
    "    parts = np.split(arr, 5)  # equal chunks only\n",
    "    return tuple(parts)\n"
   ]
  }
 ],
 "metadata": {
  "colab": {
   "authorship_tag": "ABX9TyNg+usBlG2f0+o62Gn8v8jF",
   "collapsed_sections": [
    "6IzXxb_-BrDZ",
    "YEbiZa0_zi__",
    "xHD_Ryf00Hry",
    "ZHm0nNG-0y1i",
    "XEHuKCPJ05w8",
    "Iy0w2Nv-082E",
    "d7782a9c",
    "a32d6dd9",
    "94209336",
    "97f2c623",
    "a0c498a5",
    "62806cbf",
    "9dd0f61b",
    "9edaab49",
    "vpr3dXDz1eGU",
    "-viRXq9P1kWv",
    "W2zmUmaE1nrW",
    "91ovBLfK1stG",
    "jyOyGp3H7CfH",
    "_n2h8vHm7H2Q",
    "Mq2N1Rqr7I5T",
    "yTgK2bOu7Phh"
   ],
   "provenance": []
  },
  "kernelspec": {
   "display_name": "Python 3",
   "name": "python3"
  },
  "language_info": {
   "name": "python"
  }
 },
 "nbformat": 4,
 "nbformat_minor": 0
}
