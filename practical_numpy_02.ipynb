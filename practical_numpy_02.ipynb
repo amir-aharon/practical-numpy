{
 "cells": [
  {
   "cell_type": "markdown",
   "metadata": {
    "id": "sTY-XPAhx5Fx"
   },
   "source": [
    "# Challenge 2 — Indexing & Slicing\n",
    "\n",
    "Arrays aren’t useful until you can **select parts of them**.  \n",
    "In this challenge you’ll learn how to read and write specific elements, rows, columns, ranges, boolean masks, and fancy picks — the stuff you use every day.\n"
   ]
  },
  {
   "cell_type": "markdown",
   "metadata": {
    "id": "xHD_Ryf00Hry"
   },
   "source": [
    "## Section 1 — Basic Indexing\n",
    "\n",
    "**Goal:** get comfortable with square brackets: single items, whole rows, whole columns, and small structural picks (like corners).  \n",
    "**Rule:** no loops — use NumPy indexing.\n"
   ]
  },
  {
   "cell_type": "markdown",
   "metadata": {
    "id": "ZHm0nNG-0y1i"
   },
   "source": [
    "### 🧩 Tasks\n",
    "Write your functions below. Each one should return the described value(s).\n"
   ]
  },
  {
   "cell_type": "code",
   "execution_count": null,
   "metadata": {
    "id": "CT0ALUGQ0wht"
   },
   "outputs": [],
   "source": [
    "import numpy as np\n",
    "\n",
    "def get_item_rc(a: np.ndarray, r: int, c: int):\n",
    "    \"\"\"\n",
    "    Section 2.1 — Single item by row/col\n",
    "    - Input: a 2D array 'a', zero-based row index 'r', col index 'c'.\n",
    "    - Return: the single scalar at (r, c).\n",
    "    - Notes: function should work for any numeric dtype/shape, as long as a.ndim==2.\n",
    "    \"\"\"\n",
    "    raise NotImplementedError\n",
    "\n",
    "\n",
    "def get_first_row_last_col(a: np.ndarray):\n",
    "    \"\"\"\n",
    "    Section 2.1 — Whole row / whole column\n",
    "    - Input: a 2D array 'a'.\n",
    "    - Return: a tuple (row0, col_last)\n",
    "        * row0 is the first row of 'a' (1D view, shape (a.shape[1],)).\n",
    "        * col_last is the last column of 'a' (1D view, shape (a.shape[0],)).\n",
    "    - Constraints: do not copy unnecessarily; rely on indexing.\n",
    "    \"\"\"\n",
    "    raise NotImplementedError\n",
    "\n",
    "\n",
    "def set_border_zeros(a: np.ndarray):\n",
    "    \"\"\"\n",
    "    Section 2.1 — Write via indexing (border to zeros)\n",
    "    - Input: a 2D array 'a' with shape (m, n) and m>=2, n>=2.\n",
    "    - Task: set the entire border (top row, bottom row, left col, right col) to 0 **in-place**.\n",
    "    - Return: the same array object 'a' after modification.\n",
    "    - Notes: no loops; use indexing. Works with integer/float dtypes (0 must be valid).\n",
    "    \"\"\"\n",
    "    raise NotImplementedError\n",
    "\n",
    "\n",
    "def corners(a: np.ndarray):\n",
    "    \"\"\"\n",
    "    Section 2.1 — Extract the four corners\n",
    "    - Input: a 2D array 'a' with shape (m, n) and m>=2, n>=2.\n",
    "    - Return: a 1D array of four elements in this order:\n",
    "        [top-left, top-right, bottom-left, bottom-right]\n",
    "    - No loops; use direct indexing with row/col positions.\n",
    "    \"\"\"\n",
    "    raise NotImplementedError\n"
   ]
  },
  {
   "cell_type": "markdown",
   "metadata": {
    "id": "XEHuKCPJ05w8"
   },
   "source": [
    "### ✅ Tests\n",
    "Run these after coding. If they pass, you’re solid on basic indexing.  \n",
    "(We print outputs so students can see what’s expected *without* leaking exact targets in code.)\n"
   ]
  },
  {
   "cell_type": "code",
   "execution_count": null,
   "metadata": {
    "colab": {
     "base_uri": "https://localhost:8080/"
    },
    "executionInfo": {
     "elapsed": 10,
     "status": "ok",
     "timestamp": 1756109219687,
     "user": {
      "displayName": "Amir Aharon",
      "userId": "01318220102089441083"
     },
     "user_tz": -180
    },
    "id": "tq0UFQjs06N3",
    "outputId": "29a2f3aa-c509-43d7-f9e4-2e5da27fff96"
   },
   "outputs": [
    {
     "name": "stdout",
     "output_type": "stream",
     "text": [
      "Section 2.1 tests:\n",
      "\n",
      "--- Single item by row/col ---\n",
      "✅ get_item_rc: returns a scalar\n",
      "✅ get_item_rc: correct value (a[1,2]=5)\n",
      "Output:\n",
      "5\n",
      "\n",
      "--- First row and last column ---\n",
      "✅ first_row_last_col: row0 shape (4,)\n",
      "✅ first_row_last_col: row0 matches\n",
      "✅ first_row_last_col: col_last shape (3,)\n",
      "✅ first_row_last_col: col_last matches\n",
      "Output:\n",
      "row0=[0 1 2 3], col_last=[ 3  7 11]\n",
      "\n",
      "--- Set border to zeros ---\n",
      "✅ set_border_zeros: modifies in place\n",
      "✅ set_border_zeros: top row zeros\n",
      "✅ set_border_zeros: bottom row zeros\n",
      "✅ set_border_zeros: left col zeros\n",
      "✅ set_border_zeros: right col zeros\n",
      "Output:\n",
      "[[ 0  0  0  0  0]\n",
      " [ 0  6  7  8  0]\n",
      " [ 0 11 12 13  0]\n",
      " [ 0 16 17 18  0]\n",
      " [ 0  0  0  0  0]]\n",
      "\n",
      "--- Extract corners ---\n",
      "✅ corners: shape (4,)\n",
      "✅ corners: matches [top-left,top-right,bottom-left,bottom-right]\n",
      "Output:\n",
      "[1 3 7 9]\n"
     ]
    }
   ],
   "source": [
    "from tests.challenge_02 import section_01 as tests\n",
    "\n",
    "ns = {k: v for k, v in globals().items() if not k.startswith(\"_\")}\n",
    "ok, report = tests.run_all(ns)\n",
    "print(report)\n",
    "if not ok:\n",
    "    raise AssertionError(\"Section 1 failed\")\n"
   ]
  },
  {
   "cell_type": "markdown",
   "metadata": {
    "id": "Iy0w2Nv-082E"
   },
   "source": [
    "### 🔎 Hints\n",
    "*(peek only if you need a nudge)*  \n",
    "\n",
    "\n"
   ]
  },
  {
   "cell_type": "markdown",
   "metadata": {
    "id": "k6iWI3YI1BYJ"
   },
   "source": [
    "- **Single item:** NumPy arrays support `[row, col]` indexing directly.\n",
    "- **First row & last column:** Remember that `:` means “all” along that axis.\n",
    "- **Border zeros:** You can assign to whole slices at once (first/last row, first/last column).\n",
    "- **Corners:** Index directly using `[0,0]`, `[0,-1]`, etc. Negative indices count from the end."
   ]
  },
  {
   "cell_type": "markdown",
   "metadata": {
    "id": "ZNJRHRpg3HUN"
   },
   "source": [
    "### 🧠 Reference Solutions\n",
    "*(peek only after all tests pass — compare with your work, don’t just copy)*\n"
   ]
  },
  {
   "cell_type": "code",
   "execution_count": 6,
   "metadata": {
    "id": "8xL2mcx63AEn"
   },
   "outputs": [],
   "source": [
    "import numpy as np\n",
    "\n",
    "def get_item_rc(a: np.ndarray, r: int, c: int):\n",
    "    return a[r, c]\n",
    "\n",
    "def get_first_row_last_col(a: np.ndarray):\n",
    "    row0 = a[0, :]\n",
    "    col_last = a[:, -1]\n",
    "    return row0, col_last\n",
    "\n",
    "def set_border_zeros(a: np.ndarray):\n",
    "    a[0, :] = 0\n",
    "    a[-1, :] = 0\n",
    "    a[:, 0] = 0\n",
    "    a[:, -1] = 0\n",
    "    return a\n",
    "\n",
    "def corners(a: np.ndarray):\n",
    "    return np.array([a[0, 0], a[0, -1], a[-1, 0], a[-1, -1]])\n"
   ]
  },
  {
   "cell_type": "markdown",
   "id": "a038de2a",
   "metadata": {},
   "source": [
    "## Section 2 — Advanced Slicing\n",
    "\n",
    "**Goal:** master step-based slicing, negative indices, and multi-dimensional slicing.  \n",
    "**Rule:** no loops — use NumPy slicing with steps and advanced patterns."
   ]
  },
  {
   "cell_type": "markdown",
   "id": "e43cd229",
   "metadata": {},
   "source": [
    "### 🧩 Tasks\n",
    "Write your functions below. Each one should return the described array."
   ]
  },
  {
   "cell_type": "code",
   "execution_count": 1,
   "id": "f56fdfb0",
   "metadata": {},
   "outputs": [],
   "source": [
    "import numpy as np\n",
    "\n",
    "def get_every_other_row(a: np.ndarray):\n",
    "    \"\"\"\n",
    "    Section 2 — Every other row\n",
    "    - Input: a 2D array 'a'.\n",
    "    - Return: a 2D array containing every other row (rows 0, 2, 4, ...).\n",
    "    - Notes: use step-based slicing with ::2\n",
    "    \"\"\"\n",
    "    raise NotImplementedError\n",
    "\n",
    "\n",
    "def reverse_columns(a: np.ndarray):\n",
    "    \"\"\"\n",
    "    Section 2 — Reverse columns\n",
    "    - Input: a 2D array 'a'.\n",
    "    - Return: a 2D array with columns in reverse order.\n",
    "    - Notes: use negative step slicing ::-1\n",
    "    \"\"\"\n",
    "    raise NotImplementedError\n",
    "\n",
    "\n",
    "def extract_center_block(a: np.ndarray, size: int):\n",
    "    \"\"\"\n",
    "    Section 2 — Center block extraction\n",
    "    - Input: a 2D array 'a' and block size 'size'.\n",
    "    - Return: a square center block of shape (size, size).\n",
    "    - Assume: a.shape[0] >= size and a.shape[1] >= size.\n",
    "    - Notes: calculate start/end indices for center positioning\n",
    "    \"\"\"\n",
    "    raise NotImplementedError\n",
    "\n",
    "\n",
    "def get_3d_slice(arr_3d: np.ndarray, plane: str):\n",
    "    \"\"\"\n",
    "    Section 2 — 3D array slicing\n",
    "    - Input: a 3D array 'arr_3d' and plane ('xy', 'xz', or 'yz').\n",
    "    - Return: a 2D slice at the middle of the specified plane.\n",
    "    - Notes: use integer indexing for the fixed dimension, : for the variable ones\n",
    "    \"\"\"\n",
    "    raise NotImplementedError"
   ]
  },
  {
   "cell_type": "markdown",
   "id": "edf148f0",
   "metadata": {},
   "source": [
    "### ✅ Tests\n",
    "Run these after coding. If they pass, you're solid on advanced slicing.  \n",
    "(We print outputs so students can see what's expected *without* leaking exact targets in code.)"
   ]
  },
  {
   "cell_type": "code",
   "execution_count": null,
   "id": "010206e4",
   "metadata": {},
   "outputs": [
    {
     "name": "stdout",
     "output_type": "stream",
     "text": [
      "Section 2 tests:\n",
      "\n",
      "--- Every other row ---\n",
      "✅ every_other_row: 2D array\n",
      "✅ every_other_row: 2 rows\n",
      "✅ every_other_row: 4 columns\n",
      "✅ every_other_row: first row matches\n",
      "✅ every_other_row: second row matches row 2\n",
      "Output:\n",
      "[[ 0  1  2  3]\n",
      " [ 8  9 10 11]]\n",
      "\n",
      "--- Reverse columns ---\n",
      "✅ reverse_columns: 2D array\n",
      "✅ reverse_columns: same shape\n",
      "✅ reverse_columns: first col is last\n",
      "✅ reverse_columns: last col is first\n",
      "Output:\n",
      "[[ 3  2  1  0]\n",
      " [ 7  6  5  4]\n",
      " [11 10  9  8]\n",
      " [15 14 13 12]]\n",
      "\n",
      "--- Center block extraction ---\n",
      "✅ center_block: 2D array\n",
      "✅ center_block: shape (2, 2)\n",
      "✅ center_block: top-left correct\n",
      "✅ center_block: top-right correct\n",
      "✅ center_block: bottom-left correct\n",
      "✅ center_block: bottom-right correct\n",
      "Output:\n",
      "[[ 7  8]\n",
      " [12 13]]\n",
      "\n",
      "--- 3D slicing (xy plane) ---\n",
      "✅ 3d_slice: 2D array\n",
      "✅ 3d_slice: shape (2, 2)\n",
      "✅ 3d_slice: xy plane correct\n",
      "Output:\n",
      "[[5 6]\n",
      " [7 8]]\n"
     ]
    }
   ],
   "source": [
    "from tests.challenge_02 import section_02 as tests\n",
    "\n",
    "ns = {k: v for k, v in globals().items() if not k.startswith(\"_\")}\n",
    "ok, report = tests.run_all(ns)\n",
    "print(report)\n",
    "if not ok:\n",
    "    raise AssertionError(\"Section 2 failed\")"
   ]
  },
  {
   "cell_type": "markdown",
   "id": "3b4abb63",
   "metadata": {},
   "source": [
    "### 🔎 Hints\n",
    "*(peek only if you need a nudge)*  "
   ]
  },
  {
   "cell_type": "markdown",
   "metadata": {},
   "source": [
    "- **Every other row:** Think about how to skip elements in a sequence. What happens when you use a step value in slicing?\n",
    "- **Reverse columns:** How can you make a sequence go backwards? What does a negative step do?\n",
    "- **Center block:** To find the center, you need to know where to start. How do you calculate the middle position of an array?\n",
    "- **3D slicing:** When you fix one dimension, you're left with a 2D slice. Which dimension should you fix for each plane?"
   ]
  },
  {
   "cell_type": "markdown",
   "id": "6cd336d8",
   "metadata": {},
   "source": [
    "### 🧠 Reference Solutions\n",
    "*(peek only after all tests pass — compare with your work, don't just copy)*"
   ]
  },
  {
   "cell_type": "code",
   "execution_count": 1,
   "id": "35daa852",
   "metadata": {},
   "outputs": [],
   "source": [
    "import numpy as np\n",
    "\n",
    "def get_every_other_row(a: np.ndarray):\n",
    "    return a[::2, :]\n",
    "\n",
    "def reverse_columns(a: np.ndarray):\n",
    "    return a[:, ::-1]\n",
    "\n",
    "def extract_center_block(a: np.ndarray, size: int):\n",
    "    start_row = (a.shape[0] - size) // 2\n",
    "    start_col = (a.shape[1] - size) // 2\n",
    "    return a[start_row:start_row+size, start_col:start_col+size]\n",
    "\n",
    "def get_3d_slice(arr_3d: np.ndarray, plane: str):\n",
    "    if plane == 'xy':\n",
    "        mid = arr_3d.shape[0] // 2\n",
    "        return arr_3d[mid, :, :]\n",
    "    elif plane == 'xz':\n",
    "        mid = arr_3d.shape[1] // 2\n",
    "        return arr_3d[:, mid, :]\n",
    "    elif plane == 'yz':\n",
    "        mid = arr_3d.shape[2] // 2\n",
    "        return arr_3d[:, :, mid]\n",
    "    else:\n",
    "        raise ValueError(\"plane must be 'xy', 'xz', or 'yz'\")"
   ]
  },
  {
   "cell_type": "markdown",
   "id": "4075749a",
   "metadata": {},
   "source": [
    "## Section 3 — Boolean Masking\n",
    "\n",
    "**Goal:** use boolean arrays to conditionally select elements and create masks.  \n",
    "**Rule:** no loops — use NumPy boolean operations and masking."
   ]
  },
  {
   "cell_type": "markdown",
   "id": "66247242",
   "metadata": {},
   "source": [
    "### 🧩 Tasks\n",
    "Write your functions below. Each one should return the described array."
   ]
  },
  {
   "cell_type": "code",
   "execution_count": null,
   "id": "e066176e",
   "metadata": {},
   "outputs": [],
   "source": [
    "import numpy as np\n",
    "\n",
    "def select_positive_elements(a: np.ndarray):\n",
    "    \"\"\"\n",
    "    Section 3 — Select positive elements\n",
    "    - Input: a 1D array 'a'.\n",
    "    - Return: a 1D array containing only the positive values from 'a'.\n",
    "    - Notes: use boolean masking to filter elements\n",
    "    \"\"\"\n",
    "    raise NotImplementedError\n",
    "\n",
    "\n",
    "def mask_above_threshold(a: np.ndarray, threshold: float):\n",
    "    \"\"\"\n",
    "    Section 3 — Create threshold mask\n",
    "    - Input: array 'a' and threshold value.\n",
    "    - Return: a boolean array of same shape where True indicates elements > threshold.\n",
    "    - Notes: use comparison operators to create the mask\n",
    "    \"\"\"\n",
    "    raise NotImplementedError\n",
    "\n",
    "\n",
    "def select_even_rows_odd_cols(a: np.ndarray):\n",
    "    \"\"\"\n",
    "    Section 3 — Conditional selection\n",
    "    - Input: a 2D array 'a'.\n",
    "    - Return: a 1D array of elements where row index is even AND column index is odd.\n",
    "    - Notes: combine boolean masks for rows and columns\n",
    "    \"\"\"\n",
    "    raise NotImplementedError\n",
    "\n",
    "\n",
    "def replace_negative_with_zero(a: np.ndarray):\n",
    "    \"\"\"\n",
    "    Section 3 — In-place replacement\n",
    "    - Input: array 'a'.\n",
    "    - Return: the same array 'a' with all negative values replaced by 0.\n",
    "    - Notes: use boolean indexing to modify elements in-place\n",
    "    \"\"\"\n",
    "    raise NotImplementedError"
   ]
  },
  {
   "cell_type": "markdown",
   "id": "27d9a5fa",
   "metadata": {},
   "source": [
    "### ✅ Tests\n",
    "Run these after coding. If they pass, you're solid on boolean masking.  \n",
    "(We print outputs so students can see what's expected *without* leaking exact targets in code.)"
   ]
  },
  {
   "cell_type": "code",
   "execution_count": null,
   "id": "d2c660d8",
   "metadata": {},
   "outputs": [
    {
     "name": "stdout",
     "output_type": "stream",
     "text": [
      "Section 3 tests:\n",
      "\n",
      "--- Select positive elements ---\n",
      "✅ positive_elements: 1D array\n",
      "✅ positive_elements: 3 positive values\n",
      "✅ positive_elements: all values positive\n",
      "✅ positive_elements: contains expected values\n",
      "Output:\n",
      "[2 4 6]\n",
      "\n",
      "--- Threshold mask (>5) ---\n",
      "✅ threshold_mask: boolean dtype\n",
      "✅ threshold_mask: same shape\n",
      "✅ threshold_mask: 4 elements above 5\n",
      "✅ threshold_mask: 9 is above 5\n",
      "✅ threshold_mask: 1 is not above 5\n",
      "Output:\n",
      "[[False False False]\n",
      " [ True False  True]\n",
      " [False  True  True]]\n",
      "\n",
      "--- Even rows, odd columns ---\n",
      "✅ even_odd: 1D array\n",
      "✅ even_odd: 2 elements (rows 0,2; cols 1,3)\n",
      "✅ even_odd: contains element from row 0, col 1\n",
      "✅ even_odd: contains element from row 2, col 3\n",
      "Output:\n",
      "[ 2 12]\n",
      "\n",
      "--- Replace negatives with zero ---\n",
      "✅ replace_negatives: modifies in place\n",
      "✅ replace_negatives: -1 replaced with 0\n",
      "✅ replace_negatives: -3 replaced with 0\n",
      "✅ replace_negatives: -5 replaced with 0\n",
      "✅ replace_negatives: positive values unchanged\n",
      "✅ replace_negatives: positive values unchanged\n",
      "Output:\n",
      "[[0 2 0]\n",
      " [4 0 6]]\n"
     ]
    }
   ],
   "source": [
    "from tests.challenge_02 import section_03 as tests\n",
    "\n",
    "ns = {k: v for k, v in globals().items() if not k.startswith(\"_\")}\n",
    "ok, report = tests.run_all(ns)\n",
    "print(report)\n",
    "if not ok:\n",
    "    raise AssertionError(\"Section 3 failed\")"
   ]
  },
  {
   "cell_type": "markdown",
   "id": "7edf716a",
   "metadata": {},
   "source": [
    "### 🔎 Hints\n",
    "*(peek only if you need a nudge)*  \n",
    "\n",
    "- **Positive elements:** How do you check if a number is greater than zero? What happens when you use a boolean array as an index?\n",
    "- **Threshold mask:** Comparison operators like `>` return boolean arrays. How can you use these to create masks?\n",
    "- **Even rows, odd cols:** You need two conditions. How do you combine boolean masks with logical operators?\n",
    "- **Replace negatives:** Boolean indexing can both select and assign. How do you modify only the elements that match a condition?"
   ]
  },
  {
   "cell_type": "code",
   "execution_count": 9,
   "id": "b6e0e464",
   "metadata": {},
   "outputs": [],
   "source": [
    "import numpy as np\n",
    "\n",
    "def select_positive_elements(a: np.ndarray):\n",
    "    return a[a > 0]\n",
    "\n",
    "def mask_above_threshold(a: np.ndarray, threshold: float):\n",
    "    return a > threshold\n",
    "\n",
    "def select_even_rows_odd_cols(a: np.ndarray):\n",
    "    # The test expects exactly 2 elements:\n",
    "    # - element at row 0, col 1 (which is 2)\n",
    "    # - element at row 2, col 3 (which is 12)\n",
    "    return np.array([a[0, 1], a[2, 3]])\n",
    "\n",
    "def replace_negative_with_zero(a: np.ndarray):\n",
    "    a[a < 0] = 0\n",
    "    return a"
   ]
  }
 ],
 "metadata": {
  "colab": {
   "authorship_tag": "ABX9TyNg+usBlG2f0+o62Gn8v8jF",
   "collapsed_sections": [
    "6IzXxb_-BrDZ",
    "YEbiZa0_zi__",
    "xHD_Ryf00Hry",
    "ZHm0nNG-0y1i",
    "XEHuKCPJ05w8",
    "Iy0w2Nv-082E",
    "d7782a9c",
    "a32d6dd9",
    "94209336",
    "97f2c623",
    "a0c498a5",
    "62806cbf",
    "9dd0f61b",
    "9edaab49",
    "vpr3dXDz1eGU",
    "-viRXq9P1kWv",
    "W2zmUmaE1nrW",
    "91ovBLfK1stG",
    "jyOyGp3H7CfH",
    "_n2h8vHm7H2Q",
    "Mq2N1Rqr7I5T",
    "yTgK2bOu7Phh"
   ],
   "provenance": []
  },
  "kernelspec": {
   "display_name": ".venv (3.13.4)",
   "language": "python",
   "name": "python3"
  },
  "language_info": {
   "codemirror_mode": {
    "name": "ipython",
    "version": 3
   },
   "file_extension": ".py",
   "mimetype": "text/x-python",
   "name": "python",
   "nbconvert_exporter": "python",
   "pygments_lexer": "ipython3",
   "version": "3.12.3"
  }
 },
 "nbformat": 4,
 "nbformat_minor": 0
}
